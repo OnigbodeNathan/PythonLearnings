{
 "cells": [
  {
   "cell_type": "code",
   "execution_count": 3,
   "id": "6124ac0e-cc3c-4a75-8abd-992bbf7a2eda",
   "metadata": {},
   "outputs": [
    {
     "data": {
      "text/html": [
       "<div>\n",
       "<style scoped>\n",
       "    .dataframe tbody tr th:only-of-type {\n",
       "        vertical-align: middle;\n",
       "    }\n",
       "\n",
       "    .dataframe tbody tr th {\n",
       "        vertical-align: top;\n",
       "    }\n",
       "\n",
       "    .dataframe thead th {\n",
       "        text-align: right;\n",
       "    }\n",
       "</style>\n",
       "<table border=\"1\" class=\"dataframe\">\n",
       "  <thead>\n",
       "    <tr style=\"text-align: right;\">\n",
       "      <th></th>\n",
       "      <th>A</th>\n",
       "      <th>B</th>\n",
       "      <th>C</th>\n",
       "      <th>D</th>\n",
       "    </tr>\n",
       "  </thead>\n",
       "  <tbody>\n",
       "    <tr>\n",
       "      <th>2000-01-01</th>\n",
       "      <td>1.339091</td>\n",
       "      <td>-0.163643</td>\n",
       "      <td>-0.646443</td>\n",
       "      <td>1.041233</td>\n",
       "    </tr>\n",
       "    <tr>\n",
       "      <th>2000-01-02</th>\n",
       "      <td>-0.774984</td>\n",
       "      <td>0.137034</td>\n",
       "      <td>-0.882716</td>\n",
       "      <td>-2.253382</td>\n",
       "    </tr>\n",
       "    <tr>\n",
       "      <th>2000-01-03</th>\n",
       "      <td>-0.921037</td>\n",
       "      <td>-0.482943</td>\n",
       "      <td>-0.417100</td>\n",
       "      <td>0.478638</td>\n",
       "    </tr>\n",
       "    <tr>\n",
       "      <th>2000-01-04</th>\n",
       "      <td>-1.738808</td>\n",
       "      <td>-0.072973</td>\n",
       "      <td>0.056517</td>\n",
       "      <td>0.015085</td>\n",
       "    </tr>\n",
       "    <tr>\n",
       "      <th>2000-01-05</th>\n",
       "      <td>-0.905980</td>\n",
       "      <td>1.778576</td>\n",
       "      <td>0.381918</td>\n",
       "      <td>0.291436</td>\n",
       "    </tr>\n",
       "  </tbody>\n",
       "</table>\n",
       "</div>"
      ],
      "text/plain": [
       "                   A         B         C         D\n",
       "2000-01-01  1.339091 -0.163643 -0.646443  1.041233\n",
       "2000-01-02 -0.774984  0.137034 -0.882716 -2.253382\n",
       "2000-01-03 -0.921037 -0.482943 -0.417100  0.478638\n",
       "2000-01-04 -1.738808 -0.072973  0.056517  0.015085\n",
       "2000-01-05 -0.905980  1.778576  0.381918  0.291436"
      ]
     },
     "execution_count": 3,
     "metadata": {},
     "output_type": "execute_result"
    }
   ],
   "source": [
    "import numpy as np\n",
    "import seaborn as sns\n",
    "import pandas as pd\n",
    "%matplotlib inline\n",
    "df1 = pd.read_csv('df1', index_col = 0)\n",
    "df1.head()"
   ]
  },
  {
   "cell_type": "code",
   "execution_count": 4,
   "id": "69eb1d8b-6294-449b-85fa-863600d924e5",
   "metadata": {},
   "outputs": [
    {
     "data": {
      "text/plain": [
       "<Axes: >"
      ]
     },
     "execution_count": 4,
     "metadata": {},
     "output_type": "execute_result"
    },
    {
     "data": {
      "image/png": "[encoded data removed]",
      "text/plain": [
       "<Figure size 640x480 with 1 Axes>"
      ]
     },
     "metadata": {},
     "output_type": "display_data"
    }
   ],
   "source": [
    "df1['A'].hist(bins=20)"
   ]
  },
  {
   "cell_type": "code",
   "execution_count": 6,
   "id": "cb165201-7f43-4104-92db-8b3583e63cc0",
   "metadata": {},
   "outputs": [
    {
     "data": {
      "text/plain": [
       "<Axes: ylabel='Frequency'>"
      ]
     },
     "execution_count": 6,
     "metadata": {},
     "output_type": "execute_result"
    },
    {
     "data": {
      "image/png": "[encoded data removed]",
      "text/plain": [
       "<Figure size 640x480 with 1 Axes>"
      ]
     },
     "metadata": {},
     "output_type": "display_data"
    }
   ],
   "source": [
    "df1['A'].plot(kind='hist', bins=10)"
   ]
  },
  {
   "cell_type": "code",
   "execution_count": 8,
   "id": "c9a68862-0299-4834-946c-601712601961",
   "metadata": {},
   "outputs": [],
   "source": [
    "import chart_studio.plotly as py"
   ]
  },
  {
   "cell_type": "code",
   "execution_count": 12,
   "id": "a00cb2a5-8f57-4511-84e0-ce125bd37d75",
   "metadata": {},
   "outputs": [],
   "source": [
    "import cufflinks as cf"
   ]
  },
  {
   "cell_type": "code",
   "execution_count": 15,
   "id": "c4da9684-b90c-4874-b37e-f8ac2a9f6b9b",
   "metadata": {},
   "outputs": [
    {
     "data": {
      "text/html": [
       "        <script type=\"text/javascript\">\n",
       "        window.PlotlyConfig = {MathJaxConfig: 'local'};\n",
       "        if (window.MathJax && window.MathJax.Hub && window.MathJax.Hub.Config) {window.MathJax.Hub.Config({SVG: {font: \"STIX-Web\"}});}\n",
       "        if (typeof require !== 'undefined') {\n",
       "        require.undef(\"plotly\");\n",
       "        requirejs.config({\n",
       "            paths: {\n",
       "                'plotly': ['https://cdn.plot.ly/plotly-2.12.1.min']\n",
       "            }\n",
       "        });\n",
       "        require(['plotly'], function(Plotly) {\n",
       "            window._Plotly = Plotly;\n",
       "        });\n",
       "        }\n",
       "        </script>\n",
       "        "
      ]
     },
     "metadata": {},
     "output_type": "display_data"
    }
   ],
   "source": [
    "init_notebook_mode(connected = True)"
   ]
  },
  {
   "cell_type": "code",
   "execution_count": 16,
   "id": "7b5458a1-4e9c-40a7-bb3a-a18eec05fc7e",
   "metadata": {},
   "outputs": [
    {
     "data": {
      "text/html": [
       "        <script type=\"text/javascript\">\n",
       "        window.PlotlyConfig = {MathJaxConfig: 'local'};\n",
       "        if (window.MathJax && window.MathJax.Hub && window.MathJax.Hub.Config) {window.MathJax.Hub.Config({SVG: {font: \"STIX-Web\"}});}\n",
       "        if (typeof require !== 'undefined') {\n",
       "        require.undef(\"plotly\");\n",
       "        requirejs.config({\n",
       "            paths: {\n",
       "                'plotly': ['https://cdn.plot.ly/plotly-2.12.1.min']\n",
       "            }\n",
       "        });\n",
       "        require(['plotly'], function(Plotly) {\n",
       "            window._Plotly = Plotly;\n",
       "        });\n",
       "        }\n",
       "        </script>\n",
       "        "
      ]
     },
     "metadata": {},
     "output_type": "display_data"
    }
   ],
   "source": [
    "cf.go_offline()"
   ]
  },
  {
   "cell_type": "code",
   "execution_count": 22,
   "id": "d871eb7d-cbdc-4673-9591-8ccea5f99076",
   "metadata": {},
   "outputs": [],
   "source": [
    "df = pd.DataFrame(np.random.randn(100,4),columns = 'a b c d'.split())"
   ]
  },
  {
   "cell_type": "code",
   "execution_count": 23,
   "id": "be5e0791-781d-4ecf-811e-b1f93e9f98e8",
   "metadata": {},
   "outputs": [
    {
     "data": {
      "text/html": [
       "<div>\n",
       "<style scoped>\n",
       "    .dataframe tbody tr th:only-of-type {\n",
       "        vertical-align: middle;\n",
       "    }\n",
       "\n",
       "    .dataframe tbody tr th {\n",
       "        vertical-align: top;\n",
       "    }\n",
       "\n",
       "    .dataframe thead th {\n",
       "        text-align: right;\n",
       "    }\n",
       "</style>\n",
       "<table border=\"1\" class=\"dataframe\">\n",
       "  <thead>\n",
       "    <tr style=\"text-align: right;\">\n",
       "      <th></th>\n",
       "      <th>a</th>\n",
       "      <th>b</th>\n",
       "      <th>c</th>\n",
       "      <th>d</th>\n",
       "    </tr>\n",
       "  </thead>\n",
       "  <tbody>\n",
       "    <tr>\n",
       "      <th>0</th>\n",
       "      <td>-0.817275</td>\n",
       "      <td>0.619314</td>\n",
       "      <td>-1.301234</td>\n",
       "      <td>0.735412</td>\n",
       "    </tr>\n",
       "    <tr>\n",
       "      <th>1</th>\n",
       "      <td>-0.153977</td>\n",
       "      <td>-0.958944</td>\n",
       "      <td>1.847204</td>\n",
       "      <td>0.059078</td>\n",
       "    </tr>\n",
       "    <tr>\n",
       "      <th>2</th>\n",
       "      <td>1.816290</td>\n",
       "      <td>0.828753</td>\n",
       "      <td>-0.811980</td>\n",
       "      <td>2.568330</td>\n",
       "    </tr>\n",
       "    <tr>\n",
       "      <th>3</th>\n",
       "      <td>-0.466547</td>\n",
       "      <td>-1.582599</td>\n",
       "      <td>-0.561330</td>\n",
       "      <td>-0.891782</td>\n",
       "    </tr>\n",
       "    <tr>\n",
       "      <th>4</th>\n",
       "      <td>0.909741</td>\n",
       "      <td>0.664019</td>\n",
       "      <td>-0.214832</td>\n",
       "      <td>-1.256265</td>\n",
       "    </tr>\n",
       "  </tbody>\n",
       "</table>\n",
       "</div>"
      ],
      "text/plain": [
       "          a         b         c         d\n",
       "0 -0.817275  0.619314 -1.301234  0.735412\n",
       "1 -0.153977 -0.958944  1.847204  0.059078\n",
       "2  1.816290  0.828753 -0.811980  2.568330\n",
       "3 -0.466547 -1.582599 -0.561330 -0.891782\n",
       "4  0.909741  0.664019 -0.214832 -1.256265"
      ]
     },
     "execution_count": 23,
     "metadata": {},
     "output_type": "execute_result"
    }
   ],
   "source": [
    "df.head()"
   ]
  },
  {
   "cell_type": "code",
   "execution_count": 25,
   "id": "6d4bea44-ba84-4bdb-9591-9a6f0bf0f449",
   "metadata": {},
   "outputs": [
    {
     "data": {
      "application/vnd.plotly.v1+json": {
       "config": {
        "linkText": "Export to plot.ly",
        "plotlyServerURL": "https://plot.ly",
        "showLink": true
       },
       "data": [
        {
         "colorscale": [
          [
           0,
           "rgb(255, 153, 51)"
          ],
          [
           0.1111111111111111,
           "rgb(55, 128, 191)"
          ],
          [
           0.2222222222222222,
           "rgb(50, 171, 96)"
          ],
          [
           0.3333333333333333,
           "rgb(128, 0, 128)"
          ],
          [
           0.4444444444444444,
           "rgb(219, 64, 82)"
          ],
          [
           0.5555555555555556,
           "rgb(0, 128, 128)"
          ],
          [
           0.6666666666666666,
           "rgb(255, 255, 51)"
          ],
          [
           0.7777777777777778,
           "rgb(128, 128, 0)"
          ],
          [
           0.8888888888888888,
           "rgb(251, 128, 114)"
          ],
          [
           1,
           "rgb(128, 177, 211)"
          ]
         ],
         "type": "surface",
         "x": [
          0,
          1,
          2,
          3,
          4,
          5,
          6,
          7,
          8,
          9,
          10,
          11,
          12,
          13,
          14,
          15,
          16,
          17,
          18,
          19,
          20,
          21,
          22,
          23,
          24,
          25,
          26,
          27,
          28,
          29,
          30,
          31,
          32,
          33,
          34,
          35,
          36,
          37,
          38,
          39,
          40,
          41,
          42,
          43,
          44,
          45,
          46,
          47,
          48,
          49,
          50,
          51,
          52,
          53,
          54,
          55,
          56,
          57,
          58,
          59,
          60,
          61,
          62,
          63,
          64,
          65,
          66,
          67,
          68,
          69,
          70,
          71,
          72,
          73,
          74,
          75,
          76,
          77,
          78,
          79,
          80,
          81,
          82,
          83,
          84,
          85,
          86,
          87,
          88,
          89,
          90,
          91,
          92,
          93,
          94,
          95,
          96,
          97,
          98,
          99
         ],
         "y": [
          "a",
          "b",
          "c",
          "d"
         ],
         "z": [
          [
           -0.8172754785251612,
           -0.15397666636697355,
           1.8162902705498825,
           -0.4665468527475548,
           0.9097412016672138,
           0.14658449294042258,
           0.6236035394200256,
           0.024365081610478453,
           -1.4612773478681678,
           -0.5060732751525018,
           1.040730614995282,
           -0.33810405776837565,
           0.1993021252607207,
           -1.0606848542111396,
           -0.8178714537200883,
           -1.1005775588923983,
           1.5768114424930222,
           0.8880513422412507,
           -0.9526093633471439,
           -2.051918766045021,
           0.904912385588843,
           -1.1040946433467989,
           -2.1921081304097627,
           -0.30335892761866595,
           -2.4563399829420964,
           -2.0562497191799904,
           -1.7037757402389968,
           -0.005426274928754308,
           -0.023577465294625108,
           -0.4697374424362494,
           -0.5881562804371305,
           -2.0669462138803887,
           -0.3960185714582924,
           -0.6282320242360026,
           1.61166044597046,
           -1.58499897337508,
           -1.084425024577952,
           -0.6322187567189255,
           0.028927412086095408,
           0.216648737618708,
           -0.6733155156489459,
           0.2604547395640905,
           -0.060507433218429864,
           -0.4108369248687071,
           -0.7007859110452689,
           0.15046999311863937,
           1.8083494431430962,
           -0.3397268846443629,
           -1.2161997721276039,
           0.5242634098595031,
           0.3263156252458396,
           -1.027677338163415,
           0.09549602550782235,
           0.005819784506617418,
           2.1039227641373923,
           0.9173520768798505,
           0.237450665929423,
           1.1501046488841462,
           1.2341272751735641,
           0.11476539198422701,
           -1.0593671723184366,
           -0.3439261089887074,
           1.0773649334360074,
           -0.3806979783683251,
           -0.5533662887444233,
           -1.547608833390394,
           -1.3968528650883658,
           -0.5890483874197047,
           -0.8787337850249115,
           0.7138083040462379,
           -0.5958734957879215,
           -0.33407573617255953,
           -1.502568461496211,
           1.6012677025690705,
           -0.2765682515494873,
           3.028929867658305,
           -1.6451184657033848,
           -2.015268213908112,
           0.17327829925250982,
           0.33940356721853315,
           0.8209417017723779,
           0.4398347709320118,
           1.158307914399117,
           -0.7055217553734878,
           0.8370046601965869,
           0.010076544453453202,
           1.0945141006424293,
           0.12888335744733578,
           -1.5667255197309289,
           0.4653256146033031,
           1.4261716529718915,
           0.6625854048484232,
           -1.1472047309335398,
           -0.8057163047054245,
           -0.3717045035729664,
           -1.744331229251383,
           -0.14548346124145806,
           -1.7466903989650315,
           -1.8801092747090937,
           1.0759155187591207
          ],
          [
           0.6193139984906257,
           -0.958944127425711,
           0.8287531967388203,
           -1.5825993804379657,
           0.664018956077854,
           -0.9951272340239311,
           0.9142773941857394,
           0.1440712174398192,
           0.37948687304708173,
           0.2838248956856168,
           1.1134983253632804,
           0.04345394293280727,
           0.35647460117600277,
           0.7721521907746545,
           0.024340906308700047,
           -0.134686150910596,
           0.007500675969298466,
           0.9458219419079985,
           -1.1671537858971468,
           1.3419840692664506,
           -0.47660605949229895,
           -1.9728885705984867,
           0.476860726849903,
           -1.9600305841999301,
           1.7703777583978082,
           -0.49110195961057007,
           1.7322993372882496,
           -0.5632386918079194,
           1.8415268531277529,
           0.2975564898047189,
           -0.012622850533682246,
           0.5135745626896987,
           1.4245710525913893,
           1.3365190260543598,
           0.26989154905744234,
           -0.14238567260154297,
           -0.2910005548651441,
           1.0173601299020185,
           -0.067227790785896,
           -0.48106492434715126,
           0.20275729642606038,
           -1.2227519348212796,
           0.4162796555517313,
           0.865033790943506,
           -2.3024300009266656,
           -0.3831932995210312,
           1.7578070071226852,
           0.17997004213335813,
           -1.0717842781458102,
           0.5509130197323527,
           -0.79370434847392,
           0.1625486711135917,
           0.23996582264870484,
           0.5900129103366709,
           0.32625706671282745,
           0.6806557836678365,
           -0.625012570411118,
           -0.1460717348367968,
           -0.31492435009884273,
           -0.0004416606807107782,
           0.46531850560784815,
           0.5992025514932608,
           0.8820126411499783,
           -0.10881189361917316,
           -1.2070089372894905,
           -0.09850883609550845,
           -0.5941865718210808,
           0.8040624338775653,
           0.13795188595830202,
           1.2963244526117756,
           1.2825287803112373,
           1.370312781178404,
           0.5283464175581056,
           -0.5321713534711602,
           0.907405670198041,
           0.7887596288293173,
           -1.042704524298646,
           0.1604382798948812,
           -0.379572180747614,
           0.06515379256986452,
           -0.057529545073185806,
           -1.2348937076296442,
           1.7951955984537973,
           0.5241764172184101,
           1.567126413676733,
           -0.9396640469508484,
           0.181712973110158,
           0.9439344173229776,
           -1.826199283980498,
           -0.9314803128618823,
           2.016223808506739,
           0.772258487031665,
           -1.6813421899483298,
           -0.032907243060443965,
           -2.4520746461053085,
           -0.1530422543303293,
           -0.11574250042990875,
           0.719940465456719,
           -2.124115830773969,
           -1.0225111228476929
          ],
          [
           -1.3012342798410577,
           1.847203648777014,
           -0.8119795509920709,
           -0.5613302513318035,
           -0.21483176262193662,
           -0.305279628737365,
           1.094291119817648,
           -2.138988417158316,
           -0.5842698162442785,
           1.0873721419202012,
           0.8815664619928129,
           -0.34657233798221554,
           1.0752605635657368,
           1.9613961247216232,
           -0.9454549797110364,
           -0.2154541154053414,
           1.212996159688645,
           0.20455777590956817,
           -0.11061935211153975,
           1.4043961485520193,
           0.8687439002204811,
           -1.1587464223368937,
           1.5223561007203195,
           0.10825408612804971,
           0.3555771924947778,
           0.9058059626535192,
           1.2685892650171902,
           -1.2111424330993246,
           -1.336650599937035,
           1.463441726003966,
           0.13240871886787334,
           -0.02688037962049305,
           -1.011020148023872,
           0.5177270971317574,
           2.0770074231854663,
           2.374743053434689,
           -0.8134275947412014,
           -2.205484280461151,
           -0.13887471965520906,
           0.3983511873593949,
           2.2247982474602934,
           0.7111759893111584,
           0.852860566981865,
           0.3657078473982344,
           -0.9685145022959286,
           -1.982187998951493,
           -1.0531885927298765,
           0.054190164544978256,
           -1.2118367649220445,
           1.3182007708633987,
           -1.1304649320114344,
           0.32505556884694303,
           1.234096107237008,
           0.681536955115364,
           0.48031377693710975,
           -1.36351878314053,
           -0.7734744899276105,
           0.6265462374868944,
           -0.15490084575657842,
           -2.3792407670749514,
           0.09549288033097528,
           0.024127542373117605,
           -0.9721622245079548,
           -1.0774089052053564,
           0.9077541948635505,
           0.07534391417261321,
           0.5140750750015245,
           -1.5927532741803538,
           0.8127965763376451,
           -0.04546862104318077,
           -0.7079444474831369,
           -0.6813426902205657,
           0.22838072026616005,
           -1.6280661590906964,
           0.10253412551378402,
           0.9014179390693056,
           0.6946287409324446,
           0.37760160162055106,
           0.7422191936116443,
           1.12957659475568,
           -2.564031076761084,
           -0.21433510056888191,
           1.774383376712742,
           1.2027116238403615,
           0.48672519640577333,
           1.271199694495635,
           -0.12266915856937874,
           -0.19435543679096687,
           2.474329445407774,
           -1.6308810022869638,
           0.2140202336162293,
           -0.3188151759725677,
           -0.630673748870198,
           0.7050025907075088,
           -0.27098666268426425,
           -0.1540306496060233,
           0.75834513232746,
           0.23040206270584543,
           0.3035610592825836,
           -1.7789026296410375
          ],
          [
           0.7354115983069253,
           0.059078265485433275,
           2.568330253384861,
           -0.8917821027109601,
           -1.2562651603840476,
           0.4613401353449418,
           -1.239452817239923,
           -0.8958148365112613,
           0.6150369013094223,
           0.3344603592383392,
           0.8486218527957125,
           0.08619365991861547,
           1.4082647451299988,
           0.6822623739271242,
           -0.6070041156055527,
           -0.9486997539953125,
           0.8104803441554893,
           -1.7553046371885432,
           0.39906887490511783,
           0.5863416313221803,
           1.080769934400509,
           0.6974839385692134,
           0.9676066233706692,
           -2.8191682436625403,
           0.7906559219247976,
           -1.5150682536954823,
           -0.37112694784003797,
           -0.6052165658261177,
           -1.5406610443104771,
           -1.4441898541283182,
           -1.7452614818038308,
           -0.47802441912921434,
           1.3080918815409135,
           1.739133574474272,
           -0.4971720480001282,
           -1.5019840619928617,
           0.40210751196315325,
           0.9285481292201018,
           0.928378665080501,
           -0.48853390916853656,
           -0.27914025641121165,
           0.37459187573650354,
           0.07736896072301973,
           -0.9667457809145248,
           0.3280897580985209,
           0.11085491791164072,
           -0.49262945661181545,
           1.2282279625632444,
           -1.1880732664495544,
           0.5523856764443608,
           -0.40067843954553106,
           -0.17159159237198726,
           -0.8670570342719424,
           0.5293094731209786,
           -2.241405005678155,
           0.5383025744704169,
           -0.6395703452014314,
           0.3605370468203494,
           0.4591928461597368,
           0.2638928287759058,
           -0.7148840440003371,
           1.9132828002802167,
           0.38204556026483344,
           0.8396585290834049,
           1.0389001245747151,
           -0.11616709401684859,
           1.3746830458123607,
           0.20634482168222124,
           -0.5904111730052805,
           1.0636404034164961,
           1.8527566189264444,
           -0.45498782587781805,
           -1.4379511880165219,
           -1.1349168740471782,
           -1.1104935504888875,
           -0.528679810864347,
           -0.6021244895553686,
           -0.05515862360698993,
           -2.6328437165225402,
           -0.5763470019322028,
           -1.128272101113194,
           0.4903911909138395,
           -0.40457458674732416,
           -0.2864458666812838,
           -0.9068317964398802,
           0.43862100923771685,
           -0.3652664799702533,
           -0.5212246720551229,
           1.0468607355247999,
           -0.1278813671763473,
           0.01697821475674682,
           0.6457461438940442,
           -0.18597314982425717,
           -0.8306692014399433,
           2.5294182408191928,
           0.4868303064455335,
           1.2784886734414107,
           0.715630075028654,
           -0.8410589212746117,
           -1.6813855762127934
          ]
         ]
        }
       ],
       "layout": {
        "autosize": true,
        "legend": {
         "bgcolor": "#F5F6F9",
         "font": {
          "color": "#4D5663"
         }
        },
        "paper_bgcolor": "#F5F6F9",
        "plot_bgcolor": "#F5F6F9",
        "scene": {
         "aspectmode": "auto",
         "aspectratio": {
          "x": 1,
          "y": 1,
          "z": 1
         },
         "camera": {
          "center": {
           "x": 0,
           "y": 0,
           "z": 0
          },
          "eye": {
           "x": 1.1264494654316248,
           "y": -0.35652966152665155,
           "z": 0.8813421045295865
          },
          "projection": {
           "type": "perspective"
          },
          "up": {
           "x": 0,
           "y": 0,
           "z": 1
          }
         }
        },
        "template": {
         "data": {
          "bar": [
           {
            "error_x": {
             "color": "#2a3f5f"
            },
            "error_y": {
             "color": "#2a3f5f"
            },
            "marker": {
             "line": {
              "color": "#E5ECF6",
              "width": 0.5
             },
             "pattern": {
              "fillmode": "overlay",
              "size": 10,
              "solidity": 0.2
             }
            },
            "type": "bar"
           }
          ],
          "barpolar": [
           {
            "marker": {
             "line": {
              "color": "#E5ECF6",
              "width": 0.5
             },
             "pattern": {
              "fillmode": "overlay",
              "size": 10,
              "solidity": 0.2
             }
            },
            "type": "barpolar"
           }
          ],
          "carpet": [
           {
            "aaxis": {
             "endlinecolor": "#2a3f5f",
             "gridcolor": "white",
             "linecolor": "white",
             "minorgridcolor": "white",
             "startlinecolor": "#2a3f5f"
            },
            "baxis": {
             "endlinecolor": "#2a3f5f",
             "gridcolor": "white",
             "linecolor": "white",
             "minorgridcolor": "white",
             "startlinecolor": "#2a3f5f"
            },
            "type": "carpet"
           }
          ],
          "choropleth": [
           {
            "colorbar": {
             "outlinewidth": 0,
             "ticks": ""
            },
            "type": "choropleth"
           }
          ],
          "contour": [
           {
            "colorbar": {
             "outlinewidth": 0,
             "ticks": ""
            },
            "colorscale": [
             [
              0,
              "#0d0887"
             ],
             [
              0.1111111111111111,
              "#46039f"
             ],
             [
              0.2222222222222222,
              "#7201a8"
             ],
             [
              0.3333333333333333,
              "#9c179e"
             ],
             [
              0.4444444444444444,
              "#bd3786"
             ],
             [
              0.5555555555555556,
              "#d8576b"
             ],
             [
              0.6666666666666666,
              "#ed7953"
             ],
             [
              0.7777777777777778,
              "#fb9f3a"
             ],
             [
              0.8888888888888888,
              "#fdca26"
             ],
             [
              1,
              "#f0f921"
             ]
            ],
            "type": "contour"
           }
          ],
          "contourcarpet": [
           {
            "colorbar": {
             "outlinewidth": 0,
             "ticks": ""
            },
            "type": "contourcarpet"
           }
          ],
          "heatmap": [
           {
            "colorbar": {
             "outlinewidth": 0,
             "ticks": ""
            },
            "colorscale": [
             [
              0,
              "#0d0887"
             ],
             [
              0.1111111111111111,
              "#46039f"
             ],
             [
              0.2222222222222222,
              "#7201a8"
             ],
             [
              0.3333333333333333,
              "#9c179e"
             ],
             [
              0.4444444444444444,
              "#bd3786"
             ],
             [
              0.5555555555555556,
              "#d8576b"
             ],
             [
              0.6666666666666666,
              "#ed7953"
             ],
             [
              0.7777777777777778,
              "#fb9f3a"
             ],
             [
              0.8888888888888888,
              "#fdca26"
             ],
             [
              1,
              "#f0f921"
             ]
            ],
            "type": "heatmap"
           }
          ],
          "heatmapgl": [
           {
            "colorbar": {
             "outlinewidth": 0,
             "ticks": ""
            },
            "colorscale": [
             [
              0,
              "#0d0887"
             ],
             [
              0.1111111111111111,
              "#46039f"
             ],
             [
              0.2222222222222222,
              "#7201a8"
             ],
             [
              0.3333333333333333,
              "#9c179e"
             ],
             [
              0.4444444444444444,
              "#bd3786"
             ],
             [
              0.5555555555555556,
              "#d8576b"
             ],
             [
              0.6666666666666666,
              "#ed7953"
             ],
             [
              0.7777777777777778,
              "#fb9f3a"
             ],
             [
              0.8888888888888888,
              "#fdca26"
             ],
             [
              1,
              "#f0f921"
             ]
            ],
            "type": "heatmapgl"
           }
          ],
          "histogram": [
           {
            "marker": {
             "pattern": {
              "fillmode": "overlay",
              "size": 10,
              "solidity": 0.2
             }
            },
            "type": "histogram"
           }
          ],
          "histogram2d": [
           {
            "colorbar": {
             "outlinewidth": 0,
             "ticks": ""
            },
            "colorscale": [
             [
              0,
              "#0d0887"
             ],
             [
              0.1111111111111111,
              "#46039f"
             ],
             [
              0.2222222222222222,
              "#7201a8"
             ],
             [
              0.3333333333333333,
              "#9c179e"
             ],
             [
              0.4444444444444444,
              "#bd3786"
             ],
             [
              0.5555555555555556,
              "#d8576b"
             ],
             [
              0.6666666666666666,
              "#ed7953"
             ],
             [
              0.7777777777777778,
              "#fb9f3a"
             ],
             [
              0.8888888888888888,
              "#fdca26"
             ],
             [
              1,
              "#f0f921"
             ]
            ],
            "type": "histogram2d"
           }
          ],
          "histogram2dcontour": [
           {
            "colorbar": {
             "outlinewidth": 0,
             "ticks": ""
            },
            "colorscale": [
             [
              0,
              "#0d0887"
             ],
             [
              0.1111111111111111,
              "#46039f"
             ],
             [
              0.2222222222222222,
              "#7201a8"
             ],
             [
              0.3333333333333333,
              "#9c179e"
             ],
             [
              0.4444444444444444,
              "#bd3786"
             ],
             [
              0.5555555555555556,
              "#d8576b"
             ],
             [
              0.6666666666666666,
              "#ed7953"
             ],
             [
              0.7777777777777778,
              "#fb9f3a"
             ],
             [
              0.8888888888888888,
              "#fdca26"
             ],
             [
              1,
              "#f0f921"
             ]
            ],
            "type": "histogram2dcontour"
           }
          ],
          "mesh3d": [
           {
            "colorbar": {
             "outlinewidth": 0,
             "ticks": ""
            },
            "type": "mesh3d"
           }
          ],
          "parcoords": [
           {
            "line": {
             "colorbar": {
              "outlinewidth": 0,
              "ticks": ""
             }
            },
            "type": "parcoords"
           }
          ],
          "pie": [
           {
            "automargin": true,
            "type": "pie"
           }
          ],
          "scatter": [
           {
            "fillpattern": {
             "fillmode": "overlay",
             "size": 10,
             "solidity": 0.2
            },
            "type": "scatter"
           }
          ],
          "scatter3d": [
           {
            "line": {
             "colorbar": {
              "outlinewidth": 0,
              "ticks": ""
             }
            },
            "marker": {
             "colorbar": {
              "outlinewidth": 0,
              "ticks": ""
             }
            },
            "type": "scatter3d"
           }
          ],
          "scattercarpet": [
           {
            "marker": {
             "colorbar": {
              "outlinewidth": 0,
              "ticks": ""
             }
            },
            "type": "scattercarpet"
           }
          ],
          "scattergeo": [
           {
            "marker": {
             "colorbar": {
              "outlinewidth": 0,
              "ticks": ""
             }
            },
            "type": "scattergeo"
           }
          ],
          "scattergl": [
           {
            "marker": {
             "colorbar": {
              "outlinewidth": 0,
              "ticks": ""
             }
            },
            "type": "scattergl"
           }
          ],
          "scattermapbox": [
           {
            "marker": {
             "colorbar": {
              "outlinewidth": 0,
              "ticks": ""
             }
            },
            "type": "scattermapbox"
           }
          ],
          "scatterpolar": [
           {
            "marker": {
             "colorbar": {
              "outlinewidth": 0,
              "ticks": ""
             }
            },
            "type": "scatterpolar"
           }
          ],
          "scatterpolargl": [
           {
            "marker": {
             "colorbar": {
              "outlinewidth": 0,
              "ticks": ""
             }
            },
            "type": "scatterpolargl"
           }
          ],
          "scatterternary": [
           {
            "marker": {
             "colorbar": {
              "outlinewidth": 0,
              "ticks": ""
             }
            },
            "type": "scatterternary"
           }
          ],
          "surface": [
           {
            "colorbar": {
             "outlinewidth": 0,
             "ticks": ""
            },
            "colorscale": [
             [
              0,
              "#0d0887"
             ],
             [
              0.1111111111111111,
              "#46039f"
             ],
             [
              0.2222222222222222,
              "#7201a8"
             ],
             [
              0.3333333333333333,
              "#9c179e"
             ],
             [
              0.4444444444444444,
              "#bd3786"
             ],
             [
              0.5555555555555556,
              "#d8576b"
             ],
             [
              0.6666666666666666,
              "#ed7953"
             ],
             [
              0.7777777777777778,
              "#fb9f3a"
             ],
             [
              0.8888888888888888,
              "#fdca26"
             ],
             [
              1,
              "#f0f921"
             ]
            ],
            "type": "surface"
           }
          ],
          "table": [
           {
            "cells": {
             "fill": {
              "color": "#EBF0F8"
             },
             "line": {
              "color": "white"
             }
            },
            "header": {
             "fill": {
              "color": "#C8D4E3"
             },
             "line": {
              "color": "white"
             }
            },
            "type": "table"
           }
          ]
         },
         "layout": {
          "annotationdefaults": {
           "arrowcolor": "#2a3f5f",
           "arrowhead": 0,
           "arrowwidth": 1
          },
          "autotypenumbers": "strict",
          "coloraxis": {
           "colorbar": {
            "outlinewidth": 0,
            "ticks": ""
           }
          },
          "colorscale": {
           "diverging": [
            [
             0,
             "#8e0152"
            ],
            [
             0.1,
             "#c51b7d"
            ],
            [
             0.2,
             "#de77ae"
            ],
            [
             0.3,
             "#f1b6da"
            ],
            [
             0.4,
             "#fde0ef"
            ],
            [
             0.5,
             "#f7f7f7"
            ],
            [
             0.6,
             "#e6f5d0"
            ],
            [
             0.7,
             "#b8e186"
            ],
            [
             0.8,
             "#7fbc41"
            ],
            [
             0.9,
             "#4d9221"
            ],
            [
             1,
             "#276419"
            ]
           ],
           "sequential": [
            [
             0,
             "#0d0887"
            ],
            [
             0.1111111111111111,
             "#46039f"
            ],
            [
             0.2222222222222222,
             "#7201a8"
            ],
            [
             0.3333333333333333,
             "#9c179e"
            ],
            [
             0.4444444444444444,
             "#bd3786"
            ],
            [
             0.5555555555555556,
             "#d8576b"
            ],
            [
             0.6666666666666666,
             "#ed7953"
            ],
            [
             0.7777777777777778,
             "#fb9f3a"
            ],
            [
             0.8888888888888888,
             "#fdca26"
            ],
            [
             1,
             "#f0f921"
            ]
           ],
           "sequentialminus": [
            [
             0,
             "#0d0887"
            ],
            [
             0.1111111111111111,
             "#46039f"
            ],
            [
             0.2222222222222222,
             "#7201a8"
            ],
            [
             0.3333333333333333,
             "#9c179e"
            ],
            [
             0.4444444444444444,
             "#bd3786"
            ],
            [
             0.5555555555555556,
             "#d8576b"
            ],
            [
             0.6666666666666666,
             "#ed7953"
            ],
            [
             0.7777777777777778,
             "#fb9f3a"
            ],
            [
             0.8888888888888888,
             "#fdca26"
            ],
            [
             1,
             "#f0f921"
            ]
           ]
          },
          "colorway": [
           "#636efa",
           "#EF553B",
           "#00cc96",
           "#ab63fa",
           "#FFA15A",
           "#19d3f3",
           "#FF6692",
           "#B6E880",
           "#FF97FF",
           "#FECB52"
          ],
          "font": {
           "color": "#2a3f5f"
          },
          "geo": {
           "bgcolor": "white",
           "lakecolor": "white",
           "landcolor": "#E5ECF6",
           "showlakes": true,
           "showland": true,
           "subunitcolor": "white"
          },
          "hoverlabel": {
           "align": "left"
          },
          "hovermode": "closest",
          "mapbox": {
           "style": "light"
          },
          "paper_bgcolor": "white",
          "plot_bgcolor": "#E5ECF6",
          "polar": {
           "angularaxis": {
            "gridcolor": "white",
            "linecolor": "white",
            "ticks": ""
           },
           "bgcolor": "#E5ECF6",
           "radialaxis": {
            "gridcolor": "white",
            "linecolor": "white",
            "ticks": ""
           }
          },
          "scene": {
           "xaxis": {
            "backgroundcolor": "#E5ECF6",
            "gridcolor": "white",
            "gridwidth": 2,
            "linecolor": "white",
            "showbackground": true,
            "ticks": "",
            "zerolinecolor": "white"
           },
           "yaxis": {
            "backgroundcolor": "#E5ECF6",
            "gridcolor": "white",
            "gridwidth": 2,
            "linecolor": "white",
            "showbackground": true,
            "ticks": "",
            "zerolinecolor": "white"
           },
           "zaxis": {
            "backgroundcolor": "#E5ECF6",
            "gridcolor": "white",
            "gridwidth": 2,
            "linecolor": "white",
            "showbackground": true,
            "ticks": "",
            "zerolinecolor": "white"
           }
          },
          "shapedefaults": {
           "line": {
            "color": "#2a3f5f"
           }
          },
          "ternary": {
           "aaxis": {
            "gridcolor": "white",
            "linecolor": "white",
            "ticks": ""
           },
           "baxis": {
            "gridcolor": "white",
            "linecolor": "white",
            "ticks": ""
           },
           "bgcolor": "#E5ECF6",
           "caxis": {
            "gridcolor": "white",
            "linecolor": "white",
            "ticks": ""
           }
          },
          "title": {
           "x": 0.05
          },
          "xaxis": {
           "automargin": true,
           "gridcolor": "white",
           "linecolor": "white",
           "ticks": "",
           "title": {
            "standoff": 15
           },
           "zerolinecolor": "white",
           "zerolinewidth": 2
          },
          "yaxis": {
           "automargin": true,
           "gridcolor": "white",
           "linecolor": "white",
           "ticks": "",
           "title": {
            "standoff": 15
           },
           "zerolinecolor": "white",
           "zerolinewidth": 2
          }
         }
        },
        "title": {
         "font": {
          "color": "#4D5663"
         }
        },
        "xaxis": {
         "gridcolor": "#E1E5ED",
         "showgrid": true,
         "tickfont": {
          "color": "#4D5663"
         },
         "title": {
          "font": {
           "color": "#4D5663"
          },
          "text": ""
         },
         "zerolinecolor": "#E1E5ED"
        },
        "yaxis": {
         "gridcolor": "#E1E5ED",
         "showgrid": true,
         "tickfont": {
          "color": "#4D5663"
         },
         "title": {
          "font": {
           "color": "#4D5663"
          },
          "text": ""
         },
         "zerolinecolor": "#E1E5ED"
        }
       }
      },
      "image/png": "[encoded data removed]",
      "text/html": [
       "<div>                            <div id=\"b907285b-5d91-4df5-9ad0-fad53ecdae6d\" class=\"plotly-graph-div\" style=\"height:525px; width:100%;\"></div>            <script type=\"text/javascript\">                require([\"plotly\"], function(Plotly) {                    window.PLOTLYENV=window.PLOTLYENV || {};\n",
       "                    window.PLOTLYENV.BASE_URL='https://plot.ly';                                    if (document.getElementById(\"b907285b-5d91-4df5-9ad0-fad53ecdae6d\")) {                    Plotly.newPlot(                        \"b907285b-5d91-4df5-9ad0-fad53ecdae6d\",                        [{\"colorscale\":[[0.0,\"rgb(255, 153, 51)\"],[0.1111111111111111,\"rgb(55, 128, 191)\"],[0.2222222222222222,\"rgb(50, 171, 96)\"],[0.3333333333333333,\"rgb(128, 0, 128)\"],[0.4444444444444444,\"rgb(219, 64, 82)\"],[0.5555555555555556,\"rgb(0, 128, 128)\"],[0.6666666666666666,\"rgb(255, 255, 51)\"],[0.7777777777777778,\"rgb(128, 128, 0)\"],[0.8888888888888888,\"rgb(251, 128, 114)\"],[1.0,\"rgb(128, 177, 211)\"]],\"x\":[0,1,2,3,4,5,6,7,8,9,10,11,12,13,14,15,16,17,18,19,20,21,22,23,24,25,26,27,28,29,30,31,32,33,34,35,36,37,38,39,40,41,42,43,44,45,46,47,48,49,50,51,52,53,54,55,56,57,58,59,60,61,62,63,64,65,66,67,68,69,70,71,72,73,74,75,76,77,78,79,80,81,82,83,84,85,86,87,88,89,90,91,92,93,94,95,96,97,98,99],\"y\":[\"a\",\"b\",\"c\",\"d\"],\"z\":[[-0.8172754785251612,-0.15397666636697355,1.8162902705498825,-0.4665468527475548,0.9097412016672138,0.14658449294042258,0.6236035394200256,0.024365081610478453,-1.4612773478681678,-0.5060732751525018,1.040730614995282,-0.33810405776837565,0.1993021252607207,-1.0606848542111396,-0.8178714537200883,-1.1005775588923983,1.5768114424930222,0.8880513422412507,-0.9526093633471439,-2.051918766045021,0.904912385588843,-1.1040946433467989,-2.1921081304097627,-0.30335892761866595,-2.4563399829420964,-2.0562497191799904,-1.7037757402389968,-0.005426274928754308,-0.023577465294625108,-0.4697374424362494,-0.5881562804371305,-2.0669462138803887,-0.3960185714582924,-0.6282320242360026,1.61166044597046,-1.58499897337508,-1.084425024577952,-0.6322187567189255,0.028927412086095408,0.216648737618708,-0.6733155156489459,0.2604547395640905,-0.060507433218429864,-0.4108369248687071,-0.7007859110452689,0.15046999311863937,1.8083494431430962,-0.3397268846443629,-1.2161997721276039,0.5242634098595031,0.3263156252458396,-1.027677338163415,0.09549602550782235,0.005819784506617418,2.1039227641373923,0.9173520768798505,0.237450665929423,1.1501046488841462,1.2341272751735641,0.11476539198422701,-1.0593671723184366,-0.3439261089887074,1.0773649334360074,-0.3806979783683251,-0.5533662887444233,-1.547608833390394,-1.3968528650883658,-0.5890483874197047,-0.8787337850249115,0.7138083040462379,-0.5958734957879215,-0.33407573617255953,-1.502568461496211,1.6012677025690705,-0.2765682515494873,3.028929867658305,-1.6451184657033848,-2.015268213908112,0.17327829925250982,0.33940356721853315,0.8209417017723779,0.4398347709320118,1.158307914399117,-0.7055217553734878,0.8370046601965869,0.010076544453453202,1.0945141006424293,0.12888335744733578,-1.5667255197309289,0.4653256146033031,1.4261716529718915,0.6625854048484232,-1.1472047309335398,-0.8057163047054245,-0.3717045035729664,-1.744331229251383,-0.14548346124145806,-1.7466903989650315,-1.8801092747090937,1.0759155187591207],[0.6193139984906257,-0.958944127425711,0.8287531967388203,-1.5825993804379657,0.664018956077854,-0.9951272340239311,0.9142773941857394,0.1440712174398192,0.37948687304708173,0.2838248956856168,1.1134983253632804,0.04345394293280727,0.35647460117600277,0.7721521907746545,0.024340906308700047,-0.134686150910596,0.007500675969298466,0.9458219419079985,-1.1671537858971468,1.3419840692664506,-0.47660605949229895,-1.9728885705984867,0.476860726849903,-1.9600305841999301,1.7703777583978082,-0.49110195961057007,1.7322993372882496,-0.5632386918079194,1.8415268531277529,0.2975564898047189,-0.012622850533682246,0.5135745626896987,1.4245710525913893,1.3365190260543598,0.26989154905744234,-0.14238567260154297,-0.2910005548651441,1.0173601299020185,-0.067227790785896,-0.48106492434715126,0.20275729642606038,-1.2227519348212796,0.4162796555517313,0.865033790943506,-2.3024300009266656,-0.3831932995210312,1.7578070071226852,0.17997004213335813,-1.0717842781458102,0.5509130197323527,-0.79370434847392,0.1625486711135917,0.23996582264870484,0.5900129103366709,0.32625706671282745,0.6806557836678365,-0.625012570411118,-0.1460717348367968,-0.31492435009884273,-0.0004416606807107782,0.46531850560784815,0.5992025514932608,0.8820126411499783,-0.10881189361917316,-1.2070089372894905,-0.09850883609550845,-0.5941865718210808,0.8040624338775653,0.13795188595830202,1.2963244526117756,1.2825287803112373,1.370312781178404,0.5283464175581056,-0.5321713534711602,0.907405670198041,0.7887596288293173,-1.042704524298646,0.1604382798948812,-0.379572180747614,0.06515379256986452,-0.057529545073185806,-1.2348937076296442,1.7951955984537973,0.5241764172184101,1.567126413676733,-0.9396640469508484,0.181712973110158,0.9439344173229776,-1.826199283980498,-0.9314803128618823,2.016223808506739,0.772258487031665,-1.6813421899483298,-0.032907243060443965,-2.4520746461053085,-0.1530422543303293,-0.11574250042990875,0.719940465456719,-2.124115830773969,-1.0225111228476929],[-1.3012342798410577,1.847203648777014,-0.8119795509920709,-0.5613302513318035,-0.21483176262193662,-0.305279628737365,1.094291119817648,-2.138988417158316,-0.5842698162442785,1.0873721419202012,0.8815664619928129,-0.34657233798221554,1.0752605635657368,1.9613961247216232,-0.9454549797110364,-0.2154541154053414,1.212996159688645,0.20455777590956817,-0.11061935211153975,1.4043961485520193,0.8687439002204811,-1.1587464223368937,1.5223561007203195,0.10825408612804971,0.3555771924947778,0.9058059626535192,1.2685892650171902,-1.2111424330993246,-1.336650599937035,1.463441726003966,0.13240871886787334,-0.02688037962049305,-1.011020148023872,0.5177270971317574,2.0770074231854663,2.374743053434689,-0.8134275947412014,-2.205484280461151,-0.13887471965520906,0.3983511873593949,2.2247982474602934,0.7111759893111584,0.852860566981865,0.3657078473982344,-0.9685145022959286,-1.982187998951493,-1.0531885927298765,0.054190164544978256,-1.2118367649220445,1.3182007708633987,-1.1304649320114344,0.32505556884694303,1.234096107237008,0.681536955115364,0.48031377693710975,-1.36351878314053,-0.7734744899276105,0.6265462374868944,-0.15490084575657842,-2.3792407670749514,0.09549288033097528,0.024127542373117605,-0.9721622245079548,-1.0774089052053564,0.9077541948635505,0.07534391417261321,0.5140750750015245,-1.5927532741803538,0.8127965763376451,-0.04546862104318077,-0.7079444474831369,-0.6813426902205657,0.22838072026616005,-1.6280661590906964,0.10253412551378402,0.9014179390693056,0.6946287409324446,0.37760160162055106,0.7422191936116443,1.12957659475568,-2.564031076761084,-0.21433510056888191,1.774383376712742,1.2027116238403615,0.48672519640577333,1.271199694495635,-0.12266915856937874,-0.19435543679096687,2.474329445407774,-1.6308810022869638,0.2140202336162293,-0.3188151759725677,-0.630673748870198,0.7050025907075088,-0.27098666268426425,-0.1540306496060233,0.75834513232746,0.23040206270584543,0.3035610592825836,-1.7789026296410375],[0.7354115983069253,0.059078265485433275,2.568330253384861,-0.8917821027109601,-1.2562651603840476,0.4613401353449418,-1.239452817239923,-0.8958148365112613,0.6150369013094223,0.3344603592383392,0.8486218527957125,0.08619365991861547,1.4082647451299988,0.6822623739271242,-0.6070041156055527,-0.9486997539953125,0.8104803441554893,-1.7553046371885432,0.39906887490511783,0.5863416313221803,1.080769934400509,0.6974839385692134,0.9676066233706692,-2.8191682436625403,0.7906559219247976,-1.5150682536954823,-0.37112694784003797,-0.6052165658261177,-1.5406610443104771,-1.4441898541283182,-1.7452614818038308,-0.47802441912921434,1.3080918815409135,1.739133574474272,-0.4971720480001282,-1.5019840619928617,0.40210751196315325,0.9285481292201018,0.928378665080501,-0.48853390916853656,-0.27914025641121165,0.37459187573650354,0.07736896072301973,-0.9667457809145248,0.3280897580985209,0.11085491791164072,-0.49262945661181545,1.2282279625632444,-1.1880732664495544,0.5523856764443608,-0.40067843954553106,-0.17159159237198726,-0.8670570342719424,0.5293094731209786,-2.241405005678155,0.5383025744704169,-0.6395703452014314,0.3605370468203494,0.4591928461597368,0.2638928287759058,-0.7148840440003371,1.9132828002802167,0.38204556026483344,0.8396585290834049,1.0389001245747151,-0.11616709401684859,1.3746830458123607,0.20634482168222124,-0.5904111730052805,1.0636404034164961,1.8527566189264444,-0.45498782587781805,-1.4379511880165219,-1.1349168740471782,-1.1104935504888875,-0.528679810864347,-0.6021244895553686,-0.05515862360698993,-2.6328437165225402,-0.5763470019322028,-1.128272101113194,0.4903911909138395,-0.40457458674732416,-0.2864458666812838,-0.9068317964398802,0.43862100923771685,-0.3652664799702533,-0.5212246720551229,1.0468607355247999,-0.1278813671763473,0.01697821475674682,0.6457461438940442,-0.18597314982425717,-0.8306692014399433,2.5294182408191928,0.4868303064455335,1.2784886734414107,0.715630075028654,-0.8410589212746117,-1.6813855762127934]],\"type\":\"surface\"}],                        {\"legend\":{\"bgcolor\":\"#F5F6F9\",\"font\":{\"color\":\"#4D5663\"}},\"paper_bgcolor\":\"#F5F6F9\",\"plot_bgcolor\":\"#F5F6F9\",\"template\":{\"data\":{\"barpolar\":[{\"marker\":{\"line\":{\"color\":\"#E5ECF6\",\"width\":0.5},\"pattern\":{\"fillmode\":\"overlay\",\"size\":10,\"solidity\":0.2}},\"type\":\"barpolar\"}],\"bar\":[{\"error_x\":{\"color\":\"#2a3f5f\"},\"error_y\":{\"color\":\"#2a3f5f\"},\"marker\":{\"line\":{\"color\":\"#E5ECF6\",\"width\":0.5},\"pattern\":{\"fillmode\":\"overlay\",\"size\":10,\"solidity\":0.2}},\"type\":\"bar\"}],\"carpet\":[{\"aaxis\":{\"endlinecolor\":\"#2a3f5f\",\"gridcolor\":\"white\",\"linecolor\":\"white\",\"minorgridcolor\":\"white\",\"startlinecolor\":\"#2a3f5f\"},\"baxis\":{\"endlinecolor\":\"#2a3f5f\",\"gridcolor\":\"white\",\"linecolor\":\"white\",\"minorgridcolor\":\"white\",\"startlinecolor\":\"#2a3f5f\"},\"type\":\"carpet\"}],\"choropleth\":[{\"colorbar\":{\"outlinewidth\":0,\"ticks\":\"\"},\"type\":\"choropleth\"}],\"contourcarpet\":[{\"colorbar\":{\"outlinewidth\":0,\"ticks\":\"\"},\"type\":\"contourcarpet\"}],\"contour\":[{\"colorbar\":{\"outlinewidth\":0,\"ticks\":\"\"},\"colorscale\":[[0.0,\"#0d0887\"],[0.1111111111111111,\"#46039f\"],[0.2222222222222222,\"#7201a8\"],[0.3333333333333333,\"#9c179e\"],[0.4444444444444444,\"#bd3786\"],[0.5555555555555556,\"#d8576b\"],[0.6666666666666666,\"#ed7953\"],[0.7777777777777778,\"#fb9f3a\"],[0.8888888888888888,\"#fdca26\"],[1.0,\"#f0f921\"]],\"type\":\"contour\"}],\"heatmapgl\":[{\"colorbar\":{\"outlinewidth\":0,\"ticks\":\"\"},\"colorscale\":[[0.0,\"#0d0887\"],[0.1111111111111111,\"#46039f\"],[0.2222222222222222,\"#7201a8\"],[0.3333333333333333,\"#9c179e\"],[0.4444444444444444,\"#bd3786\"],[0.5555555555555556,\"#d8576b\"],[0.6666666666666666,\"#ed7953\"],[0.7777777777777778,\"#fb9f3a\"],[0.8888888888888888,\"#fdca26\"],[1.0,\"#f0f921\"]],\"type\":\"heatmapgl\"}],\"heatmap\":[{\"colorbar\":{\"outlinewidth\":0,\"ticks\":\"\"},\"colorscale\":[[0.0,\"#0d0887\"],[0.1111111111111111,\"#46039f\"],[0.2222222222222222,\"#7201a8\"],[0.3333333333333333,\"#9c179e\"],[0.4444444444444444,\"#bd3786\"],[0.5555555555555556,\"#d8576b\"],[0.6666666666666666,\"#ed7953\"],[0.7777777777777778,\"#fb9f3a\"],[0.8888888888888888,\"#fdca26\"],[1.0,\"#f0f921\"]],\"type\":\"heatmap\"}],\"histogram2dcontour\":[{\"colorbar\":{\"outlinewidth\":0,\"ticks\":\"\"},\"colorscale\":[[0.0,\"#0d0887\"],[0.1111111111111111,\"#46039f\"],[0.2222222222222222,\"#7201a8\"],[0.3333333333333333,\"#9c179e\"],[0.4444444444444444,\"#bd3786\"],[0.5555555555555556,\"#d8576b\"],[0.6666666666666666,\"#ed7953\"],[0.7777777777777778,\"#fb9f3a\"],[0.8888888888888888,\"#fdca26\"],[1.0,\"#f0f921\"]],\"type\":\"histogram2dcontour\"}],\"histogram2d\":[{\"colorbar\":{\"outlinewidth\":0,\"ticks\":\"\"},\"colorscale\":[[0.0,\"#0d0887\"],[0.1111111111111111,\"#46039f\"],[0.2222222222222222,\"#7201a8\"],[0.3333333333333333,\"#9c179e\"],[0.4444444444444444,\"#bd3786\"],[0.5555555555555556,\"#d8576b\"],[0.6666666666666666,\"#ed7953\"],[0.7777777777777778,\"#fb9f3a\"],[0.8888888888888888,\"#fdca26\"],[1.0,\"#f0f921\"]],\"type\":\"histogram2d\"}],\"histogram\":[{\"marker\":{\"pattern\":{\"fillmode\":\"overlay\",\"size\":10,\"solidity\":0.2}},\"type\":\"histogram\"}],\"mesh3d\":[{\"colorbar\":{\"outlinewidth\":0,\"ticks\":\"\"},\"type\":\"mesh3d\"}],\"parcoords\":[{\"line\":{\"colorbar\":{\"outlinewidth\":0,\"ticks\":\"\"}},\"type\":\"parcoords\"}],\"pie\":[{\"automargin\":true,\"type\":\"pie\"}],\"scatter3d\":[{\"line\":{\"colorbar\":{\"outlinewidth\":0,\"ticks\":\"\"}},\"marker\":{\"colorbar\":{\"outlinewidth\":0,\"ticks\":\"\"}},\"type\":\"scatter3d\"}],\"scattercarpet\":[{\"marker\":{\"colorbar\":{\"outlinewidth\":0,\"ticks\":\"\"}},\"type\":\"scattercarpet\"}],\"scattergeo\":[{\"marker\":{\"colorbar\":{\"outlinewidth\":0,\"ticks\":\"\"}},\"type\":\"scattergeo\"}],\"scattergl\":[{\"marker\":{\"colorbar\":{\"outlinewidth\":0,\"ticks\":\"\"}},\"type\":\"scattergl\"}],\"scattermapbox\":[{\"marker\":{\"colorbar\":{\"outlinewidth\":0,\"ticks\":\"\"}},\"type\":\"scattermapbox\"}],\"scatterpolargl\":[{\"marker\":{\"colorbar\":{\"outlinewidth\":0,\"ticks\":\"\"}},\"type\":\"scatterpolargl\"}],\"scatterpolar\":[{\"marker\":{\"colorbar\":{\"outlinewidth\":0,\"ticks\":\"\"}},\"type\":\"scatterpolar\"}],\"scatter\":[{\"fillpattern\":{\"fillmode\":\"overlay\",\"size\":10,\"solidity\":0.2},\"type\":\"scatter\"}],\"scatterternary\":[{\"marker\":{\"colorbar\":{\"outlinewidth\":0,\"ticks\":\"\"}},\"type\":\"scatterternary\"}],\"surface\":[{\"colorbar\":{\"outlinewidth\":0,\"ticks\":\"\"},\"colorscale\":[[0.0,\"#0d0887\"],[0.1111111111111111,\"#46039f\"],[0.2222222222222222,\"#7201a8\"],[0.3333333333333333,\"#9c179e\"],[0.4444444444444444,\"#bd3786\"],[0.5555555555555556,\"#d8576b\"],[0.6666666666666666,\"#ed7953\"],[0.7777777777777778,\"#fb9f3a\"],[0.8888888888888888,\"#fdca26\"],[1.0,\"#f0f921\"]],\"type\":\"surface\"}],\"table\":[{\"cells\":{\"fill\":{\"color\":\"#EBF0F8\"},\"line\":{\"color\":\"white\"}},\"header\":{\"fill\":{\"color\":\"#C8D4E3\"},\"line\":{\"color\":\"white\"}},\"type\":\"table\"}]},\"layout\":{\"annotationdefaults\":{\"arrowcolor\":\"#2a3f5f\",\"arrowhead\":0,\"arrowwidth\":1},\"autotypenumbers\":\"strict\",\"coloraxis\":{\"colorbar\":{\"outlinewidth\":0,\"ticks\":\"\"}},\"colorscale\":{\"diverging\":[[0,\"#8e0152\"],[0.1,\"#c51b7d\"],[0.2,\"#de77ae\"],[0.3,\"#f1b6da\"],[0.4,\"#fde0ef\"],[0.5,\"#f7f7f7\"],[0.6,\"#e6f5d0\"],[0.7,\"#b8e186\"],[0.8,\"#7fbc41\"],[0.9,\"#4d9221\"],[1,\"#276419\"]],\"sequential\":[[0.0,\"#0d0887\"],[0.1111111111111111,\"#46039f\"],[0.2222222222222222,\"#7201a8\"],[0.3333333333333333,\"#9c179e\"],[0.4444444444444444,\"#bd3786\"],[0.5555555555555556,\"#d8576b\"],[0.6666666666666666,\"#ed7953\"],[0.7777777777777778,\"#fb9f3a\"],[0.8888888888888888,\"#fdca26\"],[1.0,\"#f0f921\"]],\"sequentialminus\":[[0.0,\"#0d0887\"],[0.1111111111111111,\"#46039f\"],[0.2222222222222222,\"#7201a8\"],[0.3333333333333333,\"#9c179e\"],[0.4444444444444444,\"#bd3786\"],[0.5555555555555556,\"#d8576b\"],[0.6666666666666666,\"#ed7953\"],[0.7777777777777778,\"#fb9f3a\"],[0.8888888888888888,\"#fdca26\"],[1.0,\"#f0f921\"]]},\"colorway\":[\"#636efa\",\"#EF553B\",\"#00cc96\",\"#ab63fa\",\"#FFA15A\",\"#19d3f3\",\"#FF6692\",\"#B6E880\",\"#FF97FF\",\"#FECB52\"],\"font\":{\"color\":\"#2a3f5f\"},\"geo\":{\"bgcolor\":\"white\",\"lakecolor\":\"white\",\"landcolor\":\"#E5ECF6\",\"showlakes\":true,\"showland\":true,\"subunitcolor\":\"white\"},\"hoverlabel\":{\"align\":\"left\"},\"hovermode\":\"closest\",\"mapbox\":{\"style\":\"light\"},\"paper_bgcolor\":\"white\",\"plot_bgcolor\":\"#E5ECF6\",\"polar\":{\"angularaxis\":{\"gridcolor\":\"white\",\"linecolor\":\"white\",\"ticks\":\"\"},\"bgcolor\":\"#E5ECF6\",\"radialaxis\":{\"gridcolor\":\"white\",\"linecolor\":\"white\",\"ticks\":\"\"}},\"scene\":{\"xaxis\":{\"backgroundcolor\":\"#E5ECF6\",\"gridcolor\":\"white\",\"gridwidth\":2,\"linecolor\":\"white\",\"showbackground\":true,\"ticks\":\"\",\"zerolinecolor\":\"white\"},\"yaxis\":{\"backgroundcolor\":\"#E5ECF6\",\"gridcolor\":\"white\",\"gridwidth\":2,\"linecolor\":\"white\",\"showbackground\":true,\"ticks\":\"\",\"zerolinecolor\":\"white\"},\"zaxis\":{\"backgroundcolor\":\"#E5ECF6\",\"gridcolor\":\"white\",\"gridwidth\":2,\"linecolor\":\"white\",\"showbackground\":true,\"ticks\":\"\",\"zerolinecolor\":\"white\"}},\"shapedefaults\":{\"line\":{\"color\":\"#2a3f5f\"}},\"ternary\":{\"aaxis\":{\"gridcolor\":\"white\",\"linecolor\":\"white\",\"ticks\":\"\"},\"baxis\":{\"gridcolor\":\"white\",\"linecolor\":\"white\",\"ticks\":\"\"},\"bgcolor\":\"#E5ECF6\",\"caxis\":{\"gridcolor\":\"white\",\"linecolor\":\"white\",\"ticks\":\"\"}},\"title\":{\"x\":0.05},\"xaxis\":{\"automargin\":true,\"gridcolor\":\"white\",\"linecolor\":\"white\",\"ticks\":\"\",\"title\":{\"standoff\":15},\"zerolinecolor\":\"white\",\"zerolinewidth\":2},\"yaxis\":{\"automargin\":true,\"gridcolor\":\"white\",\"linecolor\":\"white\",\"ticks\":\"\",\"title\":{\"standoff\":15},\"zerolinecolor\":\"white\",\"zerolinewidth\":2}}},\"title\":{\"font\":{\"color\":\"#4D5663\"}},\"xaxis\":{\"gridcolor\":\"#E1E5ED\",\"showgrid\":true,\"tickfont\":{\"color\":\"#4D5663\"},\"title\":{\"font\":{\"color\":\"#4D5663\"},\"text\":\"\"},\"zerolinecolor\":\"#E1E5ED\"},\"yaxis\":{\"gridcolor\":\"#E1E5ED\",\"showgrid\":true,\"tickfont\":{\"color\":\"#4D5663\"},\"title\":{\"font\":{\"color\":\"#4D5663\"},\"text\":\"\"},\"zerolinecolor\":\"#E1E5ED\"}},                        {\"showLink\": true, \"linkText\": \"Export to plot.ly\", \"plotlyServerURL\": \"https://plot.ly\", \"responsive\": true}                    ).then(function(){\n",
       "                            \n",
       "var gd = document.getElementById('b907285b-5d91-4df5-9ad0-fad53ecdae6d');\n",
       "var x = new MutationObserver(function (mutations, observer) {{\n",
       "        var display = window.getComputedStyle(gd).display;\n",
       "        if (!display || display === 'none') {{\n",
       "            console.log([gd, 'removed!']);\n",
       "            Plotly.purge(gd);\n",
       "            observer.disconnect();\n",
       "        }}\n",
       "}});\n",
       "\n",
       "// Listen for the removal of the full notebook cells\n",
       "var notebookContainer = gd.closest('#notebook-container');\n",
       "if (notebookContainer) {{\n",
       "    x.observe(notebookContainer, {childList: true});\n",
       "}}\n",
       "\n",
       "// Listen for the clearing of the current output cell\n",
       "var outputEl = gd.closest('.output');\n",
       "if (outputEl) {{\n",
       "    x.observe(outputEl, {childList: true});\n",
       "}}\n",
       "\n",
       "                        })                };                });            </script>        </div>"
      ]
     },
     "metadata": {},
     "output_type": "display_data"
    }
   ],
   "source": [
    "df.iplot(kind='surface')"
   ]
  },
  {
   "cell_type": "code",
   "execution_count": null,
   "id": "c41e64a5-9653-498e-b221-4d60ce97e068",
   "metadata": {},
   "outputs": [],
   "source": []
  },
  {
   "cell_type": "code",
   "execution_count": null,
   "id": "8d9ac134-dcb5-4fa6-97e3-cdd88f636a33",
   "metadata": {},
   "outputs": [],
   "source": []
  }
 ],
 "metadata": {
  "kernelspec": {
   "display_name": "Python 3 (ipykernel)",
   "language": "python",
   "name": "python3"
  },
  "language_info": {
   "codemirror_mode": {
    "name": "ipython",
    "version": 3
   },
   "file_extension": ".py",
   "mimetype": "text/x-python",
   "name": "python",
   "nbconvert_exporter": "python",
   "pygments_lexer": "ipython3",
   "version": "3.11.7"
  }
 },
 "nbformat": 4,
 "nbformat_minor": 5
}
