{
 "cells": [
  {
   "cell_type": "code",
   "execution_count": 2,
   "id": "af799c72-2204-4e23-b09e-c677e8749463",
   "metadata": {},
   "outputs": [
    {
     "name": "stdout",
     "output_type": "stream",
     "text": [
      "hello\n"
     ]
    },
    {
     "data": {
      "text/plain": [
       "2"
      ]
     },
     "execution_count": 2,
     "metadata": {},
     "output_type": "execute_result"
    }
   ],
   "source": [
    "print('hello')\n",
    "1 + 1"
   ]
  },
  {
   "cell_type": "code",
   "execution_count": 1,
   "id": "82dce958-d5a1-4412-ab15-a4c34ba2d192",
   "metadata": {},
   "outputs": [],
   "source": [
    "#lag\n"
   ]
  },
  {
   "cell_type": "code",
   "execution_count": 2,
   "id": "dfdb07c8-798f-4776-baad-beaf6677d7b9",
   "metadata": {},
   "outputs": [],
   "source": [
    "d = { 'key1':'value','key2':123}\n"
   ]
  },
  {
   "cell_type": "code",
   "execution_count": 3,
   "id": "9aca64e0-b4a5-4b59-b600-e177aea2b22f",
   "metadata": {},
   "outputs": [
    {
     "data": {
      "text/plain": [
       "123"
      ]
     },
     "execution_count": 3,
     "metadata": {},
     "output_type": "execute_result"
    }
   ],
   "source": [
    "d['key2']\n"
   ]
  },
  {
   "cell_type": "code",
   "execution_count": 5,
   "id": "5d4ae383-eb84-445e-93da-6a95c6a4e18c",
   "metadata": {},
   "outputs": [
    {
     "name": "stdout",
     "output_type": "stream",
     "text": [
      "bankai\n"
     ]
    }
   ],
   "source": [
    "if True:\n",
    "    print(\"bankai\")\n",
    "    "
   ]
  },
  {
   "cell_type": "code",
   "execution_count": 8,
   "id": "97f8e6a0-02ee-47c3-856a-e9efd8ae3886",
   "metadata": {},
   "outputs": [
    {
     "name": "stdout",
     "output_type": "stream",
     "text": [
      "suii\n"
     ]
    }
   ],
   "source": [
    "def docstring(string):\n",
    "    \n",
    "    \"\"\"\n",
    "    This IS A DOCBLAH ABLHA\n",
    "    just tesing this ouw\n",
    "    \"\"\" \n",
    "    return string\n",
    "\n",
    "name = docstring(\"suii\")\n",
    "print(name)\n"
   ]
  },
  {
   "cell_type": "code",
   "execution_count": 3,
   "id": "c7314e06-de33-459b-b1fc-b41f76d0fe08",
   "metadata": {},
   "outputs": [],
   "source": [
    "import numpy as np\n"
   ]
  },
  {
   "cell_type": "code",
   "execution_count": 11,
   "id": "6d8f3ae4-d432-4035-8001-d80c598daded",
   "metadata": {},
   "outputs": [],
   "source": [
    "arr = np.arange(24)\n"
   ]
  },
  {
   "cell_type": "code",
   "execution_count": 4,
   "id": "5d609fb4-5ee5-4e0d-ad14-f1c7be0a2663",
   "metadata": {},
   "outputs": [],
   "source": [
    "arr2 = np.random.randint(3,50,24)\n"
   ]
  },
  {
   "cell_type": "code",
   "execution_count": 14,
   "id": "94aad55f-d3cc-4fbf-8c3b-21bf1983f4e8",
   "metadata": {},
   "outputs": [
    {
     "data": {
      "text/plain": [
       "array([[ 0,  1,  2,  3,  4,  5],\n",
       "       [ 6,  7,  8,  9, 10, 11],\n",
       "       [12, 13, 14, 15, 16, 17],\n",
       "       [18, 19, 20, 21, 22, 23]])"
      ]
     },
     "execution_count": 14,
     "metadata": {},
     "output_type": "execute_result"
    }
   ],
   "source": [
    "arr.reshape(4,6)"
   ]
  },
  {
   "cell_type": "code",
   "execution_count": 16,
   "id": "0802bfd3-f263-4c98-a82a-fa2d3eef3ebb",
   "metadata": {},
   "outputs": [
    {
     "data": {
      "text/plain": [
       "array([[48, 34, 49, 17],\n",
       "       [ 3, 18, 14, 37],\n",
       "       [15, 44, 22, 34],\n",
       "       [42, 34, 24, 28],\n",
       "       [19,  7, 18,  4],\n",
       "       [ 4, 10, 27,  7]])"
      ]
     },
     "execution_count": 16,
     "metadata": {},
     "output_type": "execute_result"
    }
   ],
   "source": [
    "arr2.reshape(6,4)"
   ]
  },
  {
   "cell_type": "code",
   "execution_count": 5,
   "id": "f9d12d06-82b3-416c-a298-8a4b875acb1b",
   "metadata": {},
   "outputs": [
    {
     "data": {
      "text/plain": [
       "4"
      ]
     },
     "execution_count": 5,
     "metadata": {},
     "output_type": "execute_result"
    }
   ],
   "source": [
    "arr2.argmax()\n",
    "arr2.min()"
   ]
  },
  {
   "cell_type": "code",
   "execution_count": 6,
   "id": "fd5f53a4-529c-4f23-bd1a-a264db61032f",
   "metadata": {},
   "outputs": [
    {
     "data": {
      "text/plain": [
       "4"
      ]
     },
     "execution_count": 6,
     "metadata": {},
     "output_type": "execute_result"
    }
   ],
   "source": [
    "arr2.min()"
   ]
  },
  {
   "cell_type": "code",
   "execution_count": 7,
   "id": "7357be47-7b9e-46bd-be0a-ba83730a2575",
   "metadata": {},
   "outputs": [
    {
     "data": {
      "text/plain": [
       "4"
      ]
     },
     "execution_count": 7,
     "metadata": {},
     "output_type": "execute_result"
    }
   ],
   "source": [
    "arr2.argmax()\n"
   ]
  },
  {
   "cell_type": "code",
   "execution_count": 10,
   "id": "ec3f2fb6-f627-46f4-9470-558c62e8a228",
   "metadata": {},
   "outputs": [
    {
     "data": {
      "text/plain": [
       "(24,)"
      ]
     },
     "execution_count": 10,
     "metadata": {},
     "output_type": "execute_result"
    }
   ],
   "source": [
    "arr2.shape"
   ]
  },
  {
   "cell_type": "code",
   "execution_count": 12,
   "id": "ecb55c04-d474-4078-a153-522d7d38b246",
   "metadata": {},
   "outputs": [
    {
     "data": {
      "text/plain": [
       "dtype('int32')"
      ]
     },
     "execution_count": 12,
     "metadata": {},
     "output_type": "execute_result"
    }
   ],
   "source": [
    "arr2.dtype"
   ]
  },
  {
   "cell_type": "code",
   "execution_count": null,
   "id": "910981e7-ac58-453a-8a5d-9690ce47ac18",
   "metadata": {},
   "outputs": [],
   "source": []
  }
 ],
 "metadata": {
  "kernelspec": {
   "display_name": "Python 3 (ipykernel)",
   "language": "python",
   "name": "python3"
  },
  "language_info": {
   "codemirror_mode": {
    "name": "ipython",
    "version": 3
   },
   "file_extension": ".py",
   "mimetype": "text/x-python",
   "name": "python",
   "nbconvert_exporter": "python",
   "pygments_lexer": "ipython3",
   "version": "3.11.7"
  }
 },
 "nbformat": 4,
 "nbformat_minor": 5
}
