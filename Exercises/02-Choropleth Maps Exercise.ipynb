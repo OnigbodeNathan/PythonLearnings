{
 "cells": [
  {
   "cell_type": "markdown",
   "metadata": {},
   "source": [
    "___\n",
    "\n",
    "<a href='http://www.pieriandata.com'> <img src='../Pierian_Data_Logo.png' /></a>\n",
    "___"
   ]
  },
  {
   "cell_type": "markdown",
   "metadata": {},
   "source": [
    "# Choropleth Maps Exercise \n",
    "\n",
    "Welcome to the Choropleth Maps Exercise! In this exercise we will give you some simple datasets and ask you to create Choropleth Maps from them. Due to the Nature of Plotly we can't show you examples\n",
    "\n",
    "[Full Documentation Reference](https://plot.ly/python/reference/#choropleth)\n",
    "\n",
    "## Plotly Imports"
   ]
  },
  {
   "cell_type": "code",
   "execution_count": 3,
   "metadata": {},
   "outputs": [
    {
     "data": {
      "text/html": [
       "        <script type=\"text/javascript\">\n",
       "        window.PlotlyConfig = {MathJaxConfig: 'local'};\n",
       "        if (window.MathJax && window.MathJax.Hub && window.MathJax.Hub.Config) {window.MathJax.Hub.Config({SVG: {font: \"STIX-Web\"}});}\n",
       "        if (typeof require !== 'undefined') {\n",
       "        require.undef(\"plotly\");\n",
       "        requirejs.config({\n",
       "            paths: {\n",
       "                'plotly': ['https://cdn.plot.ly/plotly-2.12.1.min']\n",
       "            }\n",
       "        });\n",
       "        require(['plotly'], function(Plotly) {\n",
       "            window._Plotly = Plotly;\n",
       "        });\n",
       "        }\n",
       "        </script>\n",
       "        "
      ]
     },
     "metadata": {},
     "output_type": "display_data"
    }
   ],
   "source": [
    "import plotly.graph_objs as go \n",
    "from plotly.offline import init_notebook_mode,iplot\n",
    "init_notebook_mode(connected=True) "
   ]
  },
  {
   "cell_type": "markdown",
   "metadata": {},
   "source": [
    "** Import pandas and read the csv file: 2014_World_Power_Consumption**"
   ]
  },
  {
   "cell_type": "code",
   "execution_count": 4,
   "metadata": {},
   "outputs": [],
   "source": [
    "import pandas as pd"
   ]
  },
  {
   "cell_type": "code",
   "execution_count": 5,
   "metadata": {
    "collapsed": false,
    "jupyter": {
     "outputs_hidden": false
    }
   },
   "outputs": [],
   "source": [
    "df = pd.read_csv(\"2014_World_Power_Consumption\")"
   ]
  },
  {
   "cell_type": "markdown",
   "metadata": {},
   "source": [
    "** Check the head of the DataFrame. **"
   ]
  },
  {
   "cell_type": "code",
   "execution_count": 6,
   "metadata": {
    "collapsed": false,
    "jupyter": {
     "outputs_hidden": false
    }
   },
   "outputs": [
    {
     "data": {
      "text/html": [
       "<div>\n",
       "<style scoped>\n",
       "    .dataframe tbody tr th:only-of-type {\n",
       "        vertical-align: middle;\n",
       "    }\n",
       "\n",
       "    .dataframe tbody tr th {\n",
       "        vertical-align: top;\n",
       "    }\n",
       "\n",
       "    .dataframe thead th {\n",
       "        text-align: right;\n",
       "    }\n",
       "</style>\n",
       "<table border=\"1\" class=\"dataframe\">\n",
       "  <thead>\n",
       "    <tr style=\"text-align: right;\">\n",
       "      <th></th>\n",
       "      <th>Country</th>\n",
       "      <th>Power Consumption KWH</th>\n",
       "      <th>Text</th>\n",
       "    </tr>\n",
       "  </thead>\n",
       "  <tbody>\n",
       "    <tr>\n",
       "      <th>0</th>\n",
       "      <td>China</td>\n",
       "      <td>5.523000e+12</td>\n",
       "      <td>China 5,523,000,000,000</td>\n",
       "    </tr>\n",
       "    <tr>\n",
       "      <th>1</th>\n",
       "      <td>United States</td>\n",
       "      <td>3.832000e+12</td>\n",
       "      <td>United 3,832,000,000,000</td>\n",
       "    </tr>\n",
       "    <tr>\n",
       "      <th>2</th>\n",
       "      <td>European</td>\n",
       "      <td>2.771000e+12</td>\n",
       "      <td>European 2,771,000,000,000</td>\n",
       "    </tr>\n",
       "    <tr>\n",
       "      <th>3</th>\n",
       "      <td>Russia</td>\n",
       "      <td>1.065000e+12</td>\n",
       "      <td>Russia 1,065,000,000,000</td>\n",
       "    </tr>\n",
       "    <tr>\n",
       "      <th>4</th>\n",
       "      <td>Japan</td>\n",
       "      <td>9.210000e+11</td>\n",
       "      <td>Japan 921,000,000,000</td>\n",
       "    </tr>\n",
       "  </tbody>\n",
       "</table>\n",
       "</div>"
      ],
      "text/plain": [
       "         Country  Power Consumption KWH                        Text\n",
       "0          China           5.523000e+12     China 5,523,000,000,000\n",
       "1  United States           3.832000e+12    United 3,832,000,000,000\n",
       "2       European           2.771000e+12  European 2,771,000,000,000\n",
       "3         Russia           1.065000e+12    Russia 1,065,000,000,000\n",
       "4          Japan           9.210000e+11       Japan 921,000,000,000"
      ]
     },
     "execution_count": 6,
     "metadata": {},
     "output_type": "execute_result"
    }
   ],
   "source": [
    "df.head()"
   ]
  },
  {
   "cell_type": "markdown",
   "metadata": {},
   "source": [
    "** Referencing the lecture notes, create a Choropleth Plot of the Power Consumption for Countries using the data and layout dictionary. **"
   ]
  },
  {
   "cell_type": "code",
   "execution_count": 11,
   "metadata": {},
   "outputs": [],
   "source": [
    "data = dict(type = 'choropleth',\n",
    "           locations = df['Country'],\n",
    "           locationmode = 'country names',\n",
    "           z = df['Power Consumption KWH'],\n",
    "           text = df['Country'],\n",
    "           colorbar = {'title': 'Power Consumption KWh'})"
   ]
  },
  {
   "cell_type": "code",
   "execution_count": 14,
   "metadata": {},
   "outputs": [],
   "source": [
    "layout = dict(title = '2014_World_Power_Consumption',\n",
    "             geo = dict (showframe = False, projection = {'type': 'mercator'}))"
   ]
  },
  {
   "cell_type": "code",
   "execution_count": null,
   "metadata": {},
   "outputs": [],
   "source": []
  },
  {
   "cell_type": "code",
   "execution_count": 15,
   "metadata": {
    "collapsed": false,
    "jupyter": {
     "outputs_hidden": false
    }
   },
   "outputs": [
    {
     "data": {
      "application/vnd.plotly.v1+json": {
       "config": {
        "linkText": "Export to plot.ly",
        "plotlyServerURL": "https://plot.ly",
        "showLink": false
       },
       "data": [
        {
         "colorbar": {
          "title": {
           "text": "Power Consumption KWh"
          }
         },
         "locationmode": "country names",
         "locations": [
          "China",
          "United States",
          "European",
          "Russia",
          "Japan",
          "India",
          "Germany",
          "Canada",
          "Brazil",
          "Korea,",
          "France",
          "United Kingdom",
          "Italy",
          "Taiwan",
          "Spain",
          "Mexico",
          "Saudi",
          "Australia",
          "South",
          "Turkey",
          "Iran",
          "Indonesia",
          "Ukraine",
          "Thailand",
          "Poland",
          "Egypt",
          "Sweden",
          "Norway",
          "Malaysia",
          "Argentina",
          "Netherlands",
          "Vietnam",
          "Venezuela",
          "United Arab Emirates",
          "Finland",
          "Belgium",
          "Kazakhstan",
          "Pakistan",
          "Philippines",
          "Austria",
          "Chile",
          "Czechia",
          "Israel",
          "Switzerland",
          "Greece",
          "Iraq",
          "Romania",
          "Kuwait",
          "Colombia",
          "Singapore",
          "Portugal",
          "Uzbekistan",
          "Hong",
          "Algeria",
          "Bangladesh",
          "New",
          "Bulgaria",
          "Belarus",
          "Peru",
          "Denmark",
          "Qatar",
          "Slovakia",
          "Libya",
          "Serbia",
          "Morocco",
          "Syria",
          "Nigeria",
          "Ireland",
          "Hungary",
          "Oman",
          "Ecuador",
          "Puerto",
          "Azerbaijan",
          "Croatia",
          "Iceland",
          "Cuba",
          "Korea,",
          "Dominican",
          "Jordan",
          "Tajikistan",
          "Tunisia",
          "Slovenia",
          "Lebanon",
          "Bosnia",
          "Turkmenistan",
          "Bahrain",
          "Mozambique",
          "Ghana",
          "Sri",
          "Kyrgyzstan",
          "Lithuania",
          "Uruguay",
          "Costa",
          "Guatemala",
          "Georgia",
          "Trinidad",
          "Zambia",
          "Paraguay",
          "Albania",
          "Burma",
          "Estonia",
          "Congo,",
          "Panama",
          "Latvia",
          "Macedonia",
          "Zimbabwe",
          "Kenya",
          "Bolivia",
          "Luxembourg",
          "Sudan",
          "El",
          "Cameroon",
          "West",
          "Ethiopia",
          "Armenia",
          "Honduras",
          "Angola",
          "Cote",
          "Tanzania",
          "Nicaragua",
          "Moldova",
          "Cyprus",
          "Macau",
          "Namibia",
          "Mongolia",
          "Afghanistan",
          "Yemen",
          "Brunei",
          "Cambodia",
          "Montenegro",
          "Nepal",
          "Botswana",
          "Papua",
          "Jamaica",
          "Kosovo",
          "Laos",
          "Uganda",
          "New",
          "Mauritius",
          "Senegal",
          "Bhutan",
          "Malawi",
          "Madagascar",
          "Bahamas,",
          "Gabon",
          "Suriname",
          "Guam",
          "Liechtenstein",
          "Swaziland",
          "Burkina",
          "Togo",
          "Curacao",
          "Mauritania",
          "Barbados",
          "Niger",
          "Aruba",
          "Benin",
          "Guinea",
          "Mali",
          "Fiji",
          "Congo,",
          "Virgin",
          "Lesotho",
          "South",
          "Bermuda",
          "French",
          "Jersey",
          "Belize",
          "Andorra",
          "Guyana",
          "Cayman",
          "Haiti",
          "Rwanda",
          "Saint",
          "Djibouti",
          "Seychelles",
          "Somalia",
          "Antigua",
          "Greenland",
          "Cabo",
          "Eritrea",
          "Burundi",
          "Liberia",
          "Maldives",
          "Faroe",
          "Gambia,",
          "Chad",
          "Micronesia,",
          "Grenada",
          "Central",
          "Turks",
          "Gibraltar",
          "American",
          "Sierra",
          "Saint",
          "Saint",
          "Timor-Leste",
          "Equatorial",
          "Samoa",
          "Dominica",
          "Western",
          "Solomon",
          "Sao",
          "British",
          "Vanuatu",
          "Guinea-Bissau",
          "Tonga",
          "Saint",
          "Comoros",
          "Cook",
          "Kiribati",
          "Montserrat",
          "Nauru",
          "Falkland",
          "Saint",
          "Niue",
          "Gaza",
          "Malta",
          "Northern"
         ],
         "text": [
          "China",
          "United States",
          "European",
          "Russia",
          "Japan",
          "India",
          "Germany",
          "Canada",
          "Brazil",
          "Korea,",
          "France",
          "United Kingdom",
          "Italy",
          "Taiwan",
          "Spain",
          "Mexico",
          "Saudi",
          "Australia",
          "South",
          "Turkey",
          "Iran",
          "Indonesia",
          "Ukraine",
          "Thailand",
          "Poland",
          "Egypt",
          "Sweden",
          "Norway",
          "Malaysia",
          "Argentina",
          "Netherlands",
          "Vietnam",
          "Venezuela",
          "United Arab Emirates",
          "Finland",
          "Belgium",
          "Kazakhstan",
          "Pakistan",
          "Philippines",
          "Austria",
          "Chile",
          "Czechia",
          "Israel",
          "Switzerland",
          "Greece",
          "Iraq",
          "Romania",
          "Kuwait",
          "Colombia",
          "Singapore",
          "Portugal",
          "Uzbekistan",
          "Hong",
          "Algeria",
          "Bangladesh",
          "New",
          "Bulgaria",
          "Belarus",
          "Peru",
          "Denmark",
          "Qatar",
          "Slovakia",
          "Libya",
          "Serbia",
          "Morocco",
          "Syria",
          "Nigeria",
          "Ireland",
          "Hungary",
          "Oman",
          "Ecuador",
          "Puerto",
          "Azerbaijan",
          "Croatia",
          "Iceland",
          "Cuba",
          "Korea,",
          "Dominican",
          "Jordan",
          "Tajikistan",
          "Tunisia",
          "Slovenia",
          "Lebanon",
          "Bosnia",
          "Turkmenistan",
          "Bahrain",
          "Mozambique",
          "Ghana",
          "Sri",
          "Kyrgyzstan",
          "Lithuania",
          "Uruguay",
          "Costa",
          "Guatemala",
          "Georgia",
          "Trinidad",
          "Zambia",
          "Paraguay",
          "Albania",
          "Burma",
          "Estonia",
          "Congo,",
          "Panama",
          "Latvia",
          "Macedonia",
          "Zimbabwe",
          "Kenya",
          "Bolivia",
          "Luxembourg",
          "Sudan",
          "El",
          "Cameroon",
          "West",
          "Ethiopia",
          "Armenia",
          "Honduras",
          "Angola",
          "Cote",
          "Tanzania",
          "Nicaragua",
          "Moldova",
          "Cyprus",
          "Macau",
          "Namibia",
          "Mongolia",
          "Afghanistan",
          "Yemen",
          "Brunei",
          "Cambodia",
          "Montenegro",
          "Nepal",
          "Botswana",
          "Papua",
          "Jamaica",
          "Kosovo",
          "Laos",
          "Uganda",
          "New",
          "Mauritius",
          "Senegal",
          "Bhutan",
          "Malawi",
          "Madagascar",
          "Bahamas,",
          "Gabon",
          "Suriname",
          "Guam",
          "Liechtenstein",
          "Swaziland",
          "Burkina",
          "Togo",
          "Curacao",
          "Mauritania",
          "Barbados",
          "Niger",
          "Aruba",
          "Benin",
          "Guinea",
          "Mali",
          "Fiji",
          "Congo,",
          "Virgin",
          "Lesotho",
          "South",
          "Bermuda",
          "French",
          "Jersey",
          "Belize",
          "Andorra",
          "Guyana",
          "Cayman",
          "Haiti",
          "Rwanda",
          "Saint",
          "Djibouti",
          "Seychelles",
          "Somalia",
          "Antigua",
          "Greenland",
          "Cabo",
          "Eritrea",
          "Burundi",
          "Liberia",
          "Maldives",
          "Faroe",
          "Gambia,",
          "Chad",
          "Micronesia,",
          "Grenada",
          "Central",
          "Turks",
          "Gibraltar",
          "American",
          "Sierra",
          "Saint",
          "Saint",
          "Timor-Leste",
          "Equatorial",
          "Samoa",
          "Dominica",
          "Western",
          "Solomon",
          "Sao",
          "British",
          "Vanuatu",
          "Guinea-Bissau",
          "Tonga",
          "Saint",
          "Comoros",
          "Cook",
          "Kiribati",
          "Montserrat",
          "Nauru",
          "Falkland",
          "Saint",
          "Niue",
          "Gaza",
          "Malta",
          "Northern"
         ],
         "type": "choropleth",
         "z": [
          5523000000000,
          3832000000000,
          2771000000000,
          1065000000000,
          921000000000,
          864700000000,
          540100000000,
          511000000000,
          483500000000,
          482400000000,
          451100000000,
          319100000000,
          303100000000,
          249500000000,
          243100000000,
          234000000000,
          231600000000,
          222600000000,
          211600000000,
          197000000000,
          195300000000,
          167500000000,
          159800000000,
          155900000000,
          139000000000,
          135600000000,
          130500000000,
          126400000000,
          118500000000,
          117100000000,
          116800000000,
          108300000000,
          97690000000,
          93280000000,
          82040000000,
          81890000000,
          80290000000,
          78890000000,
          75270000000,
          69750000000,
          63390000000,
          60550000000,
          59830000000,
          58010000000,
          57730000000,
          53410000000,
          50730000000,
          50000000000,
          49380000000,
          47180000000,
          46250000000,
          45210000000,
          44210000000,
          42870000000,
          41520000000,
          40300000000,
          37990000000,
          37880000000,
          35690000000,
          31960000000,
          30530000000,
          28360000000,
          27540000000,
          26910000000,
          26700000000,
          25700000000,
          24780000000,
          24240000000,
          21550000000,
          20360000000,
          19020000000,
          18620000000,
          17790000000,
          16970000000,
          16940000000,
          16200000000,
          16000000000,
          15140000000,
          14560000000,
          14420000000,
          13310000000,
          13020000000,
          12940000000,
          12560000000,
          11750000000,
          11690000000,
          11280000000,
          10580000000,
          10170000000,
          9943000000,
          9664000000,
          9559000000,
          8987000000,
          8915000000,
          8468000000,
          8365000000,
          8327000000,
          8125000000,
          7793000000,
          7765000000,
          7417000000,
          7292000000,
          7144000000,
          7141000000,
          6960000000,
          6831000000,
          6627000000,
          6456000000,
          6108000000,
          5665000000,
          5665000000,
          5535000000,
          5312000000,
          5227000000,
          5043000000,
          5036000000,
          4842000000,
          4731000000,
          4545000000,
          4412000000,
          4305000000,
          4296000000,
          4291000000,
          4238000000,
          4204000000,
          3893000000,
          3838000000,
          3766000000,
          3553000000,
          3465000000,
          3239000000,
          3213000000,
          3116000000,
          3008000000,
          2887000000,
          2874000000,
          2821000000,
          2716000000,
          2658000000,
          2586000000,
          2085000000,
          2027000000,
          1883000000,
          1716000000,
          1680000000,
          1572000000,
          1566000000,
          1360000000,
          1295000000,
          985500000,
          976000000,
          968000000,
          962600000,
          938000000,
          930200000,
          920700000,
          911000000,
          903000000,
          882600000,
          777600000,
          740000000,
          723500000,
          707000000,
          694100000,
          664200000,
          652900000,
          630100000,
          605000000,
          562400000,
          558000000,
          545900000,
          452000000,
          365500000,
          336400000,
          311600000,
          293900000,
          293000000,
          293000000,
          292000000,
          285500000,
          284000000,
          282900000,
          276900000,
          267100000,
          261300000,
          218600000,
          190700000,
          178600000,
          178000000,
          168300000,
          167400000,
          160000000,
          146000000,
          134900000,
          130200000,
          127400000,
          125300000,
          93000000,
          90400000,
          89750000,
          83700000,
          79050000,
          60450000,
          51150000,
          49290000,
          46500000,
          44640000,
          39990000,
          39990000,
          28950000,
          24180000,
          23250000,
          23250000,
          11160000,
          7440000,
          2790000,
          202000,
          174700,
          48300
         ]
        }
       ],
       "layout": {
        "autosize": true,
        "geo": {
         "center": {
          "lat": -65.99607580520826,
          "lon": 176.90060239220753
         },
         "projection": {
          "rotation": {
           "lon": -183.09939760779247
          },
          "scale": 0.6597539553864474,
          "type": "mercator"
         },
         "showframe": false
        },
        "template": {
         "data": {
          "bar": [
           {
            "error_x": {
             "color": "#2a3f5f"
            },
            "error_y": {
             "color": "#2a3f5f"
            },
            "marker": {
             "line": {
              "color": "#E5ECF6",
              "width": 0.5
             },
             "pattern": {
              "fillmode": "overlay",
              "size": 10,
              "solidity": 0.2
             }
            },
            "type": "bar"
           }
          ],
          "barpolar": [
           {
            "marker": {
             "line": {
              "color": "#E5ECF6",
              "width": 0.5
             },
             "pattern": {
              "fillmode": "overlay",
              "size": 10,
              "solidity": 0.2
             }
            },
            "type": "barpolar"
           }
          ],
          "carpet": [
           {
            "aaxis": {
             "endlinecolor": "#2a3f5f",
             "gridcolor": "white",
             "linecolor": "white",
             "minorgridcolor": "white",
             "startlinecolor": "#2a3f5f"
            },
            "baxis": {
             "endlinecolor": "#2a3f5f",
             "gridcolor": "white",
             "linecolor": "white",
             "minorgridcolor": "white",
             "startlinecolor": "#2a3f5f"
            },
            "type": "carpet"
           }
          ],
          "choropleth": [
           {
            "colorbar": {
             "outlinewidth": 0,
             "ticks": ""
            },
            "type": "choropleth"
           }
          ],
          "contour": [
           {
            "colorbar": {
             "outlinewidth": 0,
             "ticks": ""
            },
            "colorscale": [
             [
              0,
              "#0d0887"
             ],
             [
              0.1111111111111111,
              "#46039f"
             ],
             [
              0.2222222222222222,
              "#7201a8"
             ],
             [
              0.3333333333333333,
              "#9c179e"
             ],
             [
              0.4444444444444444,
              "#bd3786"
             ],
             [
              0.5555555555555556,
              "#d8576b"
             ],
             [
              0.6666666666666666,
              "#ed7953"
             ],
             [
              0.7777777777777778,
              "#fb9f3a"
             ],
             [
              0.8888888888888888,
              "#fdca26"
             ],
             [
              1,
              "#f0f921"
             ]
            ],
            "type": "contour"
           }
          ],
          "contourcarpet": [
           {
            "colorbar": {
             "outlinewidth": 0,
             "ticks": ""
            },
            "type": "contourcarpet"
           }
          ],
          "heatmap": [
           {
            "colorbar": {
             "outlinewidth": 0,
             "ticks": ""
            },
            "colorscale": [
             [
              0,
              "#0d0887"
             ],
             [
              0.1111111111111111,
              "#46039f"
             ],
             [
              0.2222222222222222,
              "#7201a8"
             ],
             [
              0.3333333333333333,
              "#9c179e"
             ],
             [
              0.4444444444444444,
              "#bd3786"
             ],
             [
              0.5555555555555556,
              "#d8576b"
             ],
             [
              0.6666666666666666,
              "#ed7953"
             ],
             [
              0.7777777777777778,
              "#fb9f3a"
             ],
             [
              0.8888888888888888,
              "#fdca26"
             ],
             [
              1,
              "#f0f921"
             ]
            ],
            "type": "heatmap"
           }
          ],
          "heatmapgl": [
           {
            "colorbar": {
             "outlinewidth": 0,
             "ticks": ""
            },
            "colorscale": [
             [
              0,
              "#0d0887"
             ],
             [
              0.1111111111111111,
              "#46039f"
             ],
             [
              0.2222222222222222,
              "#7201a8"
             ],
             [
              0.3333333333333333,
              "#9c179e"
             ],
             [
              0.4444444444444444,
              "#bd3786"
             ],
             [
              0.5555555555555556,
              "#d8576b"
             ],
             [
              0.6666666666666666,
              "#ed7953"
             ],
             [
              0.7777777777777778,
              "#fb9f3a"
             ],
             [
              0.8888888888888888,
              "#fdca26"
             ],
             [
              1,
              "#f0f921"
             ]
            ],
            "type": "heatmapgl"
           }
          ],
          "histogram": [
           {
            "marker": {
             "pattern": {
              "fillmode": "overlay",
              "size": 10,
              "solidity": 0.2
             }
            },
            "type": "histogram"
           }
          ],
          "histogram2d": [
           {
            "colorbar": {
             "outlinewidth": 0,
             "ticks": ""
            },
            "colorscale": [
             [
              0,
              "#0d0887"
             ],
             [
              0.1111111111111111,
              "#46039f"
             ],
             [
              0.2222222222222222,
              "#7201a8"
             ],
             [
              0.3333333333333333,
              "#9c179e"
             ],
             [
              0.4444444444444444,
              "#bd3786"
             ],
             [
              0.5555555555555556,
              "#d8576b"
             ],
             [
              0.6666666666666666,
              "#ed7953"
             ],
             [
              0.7777777777777778,
              "#fb9f3a"
             ],
             [
              0.8888888888888888,
              "#fdca26"
             ],
             [
              1,
              "#f0f921"
             ]
            ],
            "type": "histogram2d"
           }
          ],
          "histogram2dcontour": [
           {
            "colorbar": {
             "outlinewidth": 0,
             "ticks": ""
            },
            "colorscale": [
             [
              0,
              "#0d0887"
             ],
             [
              0.1111111111111111,
              "#46039f"
             ],
             [
              0.2222222222222222,
              "#7201a8"
             ],
             [
              0.3333333333333333,
              "#9c179e"
             ],
             [
              0.4444444444444444,
              "#bd3786"
             ],
             [
              0.5555555555555556,
              "#d8576b"
             ],
             [
              0.6666666666666666,
              "#ed7953"
             ],
             [
              0.7777777777777778,
              "#fb9f3a"
             ],
             [
              0.8888888888888888,
              "#fdca26"
             ],
             [
              1,
              "#f0f921"
             ]
            ],
            "type": "histogram2dcontour"
           }
          ],
          "mesh3d": [
           {
            "colorbar": {
             "outlinewidth": 0,
             "ticks": ""
            },
            "type": "mesh3d"
           }
          ],
          "parcoords": [
           {
            "line": {
             "colorbar": {
              "outlinewidth": 0,
              "ticks": ""
             }
            },
            "type": "parcoords"
           }
          ],
          "pie": [
           {
            "automargin": true,
            "type": "pie"
           }
          ],
          "scatter": [
           {
            "fillpattern": {
             "fillmode": "overlay",
             "size": 10,
             "solidity": 0.2
            },
            "type": "scatter"
           }
          ],
          "scatter3d": [
           {
            "line": {
             "colorbar": {
              "outlinewidth": 0,
              "ticks": ""
             }
            },
            "marker": {
             "colorbar": {
              "outlinewidth": 0,
              "ticks": ""
             }
            },
            "type": "scatter3d"
           }
          ],
          "scattercarpet": [
           {
            "marker": {
             "colorbar": {
              "outlinewidth": 0,
              "ticks": ""
             }
            },
            "type": "scattercarpet"
           }
          ],
          "scattergeo": [
           {
            "marker": {
             "colorbar": {
              "outlinewidth": 0,
              "ticks": ""
             }
            },
            "type": "scattergeo"
           }
          ],
          "scattergl": [
           {
            "marker": {
             "colorbar": {
              "outlinewidth": 0,
              "ticks": ""
             }
            },
            "type": "scattergl"
           }
          ],
          "scattermapbox": [
           {
            "marker": {
             "colorbar": {
              "outlinewidth": 0,
              "ticks": ""
             }
            },
            "type": "scattermapbox"
           }
          ],
          "scatterpolar": [
           {
            "marker": {
             "colorbar": {
              "outlinewidth": 0,
              "ticks": ""
             }
            },
            "type": "scatterpolar"
           }
          ],
          "scatterpolargl": [
           {
            "marker": {
             "colorbar": {
              "outlinewidth": 0,
              "ticks": ""
             }
            },
            "type": "scatterpolargl"
           }
          ],
          "scatterternary": [
           {
            "marker": {
             "colorbar": {
              "outlinewidth": 0,
              "ticks": ""
             }
            },
            "type": "scatterternary"
           }
          ],
          "surface": [
           {
            "colorbar": {
             "outlinewidth": 0,
             "ticks": ""
            },
            "colorscale": [
             [
              0,
              "#0d0887"
             ],
             [
              0.1111111111111111,
              "#46039f"
             ],
             [
              0.2222222222222222,
              "#7201a8"
             ],
             [
              0.3333333333333333,
              "#9c179e"
             ],
             [
              0.4444444444444444,
              "#bd3786"
             ],
             [
              0.5555555555555556,
              "#d8576b"
             ],
             [
              0.6666666666666666,
              "#ed7953"
             ],
             [
              0.7777777777777778,
              "#fb9f3a"
             ],
             [
              0.8888888888888888,
              "#fdca26"
             ],
             [
              1,
              "#f0f921"
             ]
            ],
            "type": "surface"
           }
          ],
          "table": [
           {
            "cells": {
             "fill": {
              "color": "#EBF0F8"
             },
             "line": {
              "color": "white"
             }
            },
            "header": {
             "fill": {
              "color": "#C8D4E3"
             },
             "line": {
              "color": "white"
             }
            },
            "type": "table"
           }
          ]
         },
         "layout": {
          "annotationdefaults": {
           "arrowcolor": "#2a3f5f",
           "arrowhead": 0,
           "arrowwidth": 1
          },
          "autotypenumbers": "strict",
          "coloraxis": {
           "colorbar": {
            "outlinewidth": 0,
            "ticks": ""
           }
          },
          "colorscale": {
           "diverging": [
            [
             0,
             "#8e0152"
            ],
            [
             0.1,
             "#c51b7d"
            ],
            [
             0.2,
             "#de77ae"
            ],
            [
             0.3,
             "#f1b6da"
            ],
            [
             0.4,
             "#fde0ef"
            ],
            [
             0.5,
             "#f7f7f7"
            ],
            [
             0.6,
             "#e6f5d0"
            ],
            [
             0.7,
             "#b8e186"
            ],
            [
             0.8,
             "#7fbc41"
            ],
            [
             0.9,
             "#4d9221"
            ],
            [
             1,
             "#276419"
            ]
           ],
           "sequential": [
            [
             0,
             "#0d0887"
            ],
            [
             0.1111111111111111,
             "#46039f"
            ],
            [
             0.2222222222222222,
             "#7201a8"
            ],
            [
             0.3333333333333333,
             "#9c179e"
            ],
            [
             0.4444444444444444,
             "#bd3786"
            ],
            [
             0.5555555555555556,
             "#d8576b"
            ],
            [
             0.6666666666666666,
             "#ed7953"
            ],
            [
             0.7777777777777778,
             "#fb9f3a"
            ],
            [
             0.8888888888888888,
             "#fdca26"
            ],
            [
             1,
             "#f0f921"
            ]
           ],
           "sequentialminus": [
            [
             0,
             "#0d0887"
            ],
            [
             0.1111111111111111,
             "#46039f"
            ],
            [
             0.2222222222222222,
             "#7201a8"
            ],
            [
             0.3333333333333333,
             "#9c179e"
            ],
            [
             0.4444444444444444,
             "#bd3786"
            ],
            [
             0.5555555555555556,
             "#d8576b"
            ],
            [
             0.6666666666666666,
             "#ed7953"
            ],
            [
             0.7777777777777778,
             "#fb9f3a"
            ],
            [
             0.8888888888888888,
             "#fdca26"
            ],
            [
             1,
             "#f0f921"
            ]
           ]
          },
          "colorway": [
           "#636efa",
           "#EF553B",
           "#00cc96",
           "#ab63fa",
           "#FFA15A",
           "#19d3f3",
           "#FF6692",
           "#B6E880",
           "#FF97FF",
           "#FECB52"
          ],
          "font": {
           "color": "#2a3f5f"
          },
          "geo": {
           "bgcolor": "white",
           "lakecolor": "white",
           "landcolor": "#E5ECF6",
           "showlakes": true,
           "showland": true,
           "subunitcolor": "white"
          },
          "hoverlabel": {
           "align": "left"
          },
          "hovermode": "closest",
          "mapbox": {
           "style": "light"
          },
          "paper_bgcolor": "white",
          "plot_bgcolor": "#E5ECF6",
          "polar": {
           "angularaxis": {
            "gridcolor": "white",
            "linecolor": "white",
            "ticks": ""
           },
           "bgcolor": "#E5ECF6",
           "radialaxis": {
            "gridcolor": "white",
            "linecolor": "white",
            "ticks": ""
           }
          },
          "scene": {
           "xaxis": {
            "backgroundcolor": "#E5ECF6",
            "gridcolor": "white",
            "gridwidth": 2,
            "linecolor": "white",
            "showbackground": true,
            "ticks": "",
            "zerolinecolor": "white"
           },
           "yaxis": {
            "backgroundcolor": "#E5ECF6",
            "gridcolor": "white",
            "gridwidth": 2,
            "linecolor": "white",
            "showbackground": true,
            "ticks": "",
            "zerolinecolor": "white"
           },
           "zaxis": {
            "backgroundcolor": "#E5ECF6",
            "gridcolor": "white",
            "gridwidth": 2,
            "linecolor": "white",
            "showbackground": true,
            "ticks": "",
            "zerolinecolor": "white"
           }
          },
          "shapedefaults": {
           "line": {
            "color": "#2a3f5f"
           }
          },
          "ternary": {
           "aaxis": {
            "gridcolor": "white",
            "linecolor": "white",
            "ticks": ""
           },
           "baxis": {
            "gridcolor": "white",
            "linecolor": "white",
            "ticks": ""
           },
           "bgcolor": "#E5ECF6",
           "caxis": {
            "gridcolor": "white",
            "linecolor": "white",
            "ticks": ""
           }
          },
          "title": {
           "x": 0.05
          },
          "xaxis": {
           "automargin": true,
           "gridcolor": "white",
           "linecolor": "white",
           "ticks": "",
           "title": {
            "standoff": 15
           },
           "zerolinecolor": "white",
           "zerolinewidth": 2
          },
          "yaxis": {
           "automargin": true,
           "gridcolor": "white",
           "linecolor": "white",
           "ticks": "",
           "title": {
            "standoff": 15
           },
           "zerolinecolor": "white",
           "zerolinewidth": 2
          }
         }
        },
        "title": {
         "text": "2014_World_Power_Consumption"
        }
       }
      },
      "image/png": "[encoded data removed]",
      "text/html": [
       "<div>                            <div id=\"dc716c82-d394-4ff7-9586-142c232dcad9\" class=\"plotly-graph-div\" style=\"height:525px; width:100%;\"></div>            <script type=\"text/javascript\">                require([\"plotly\"], function(Plotly) {                    window.PLOTLYENV=window.PLOTLYENV || {};                                    if (document.getElementById(\"dc716c82-d394-4ff7-9586-142c232dcad9\")) {                    Plotly.newPlot(                        \"dc716c82-d394-4ff7-9586-142c232dcad9\",                        [{\"colorbar\":{\"title\":{\"text\":\"Power Consumption KWh\"}},\"locationmode\":\"country names\",\"locations\":[\"China\",\"United States\",\"European\",\"Russia\",\"Japan\",\"India\",\"Germany\",\"Canada\",\"Brazil\",\"Korea,\",\"France\",\"United Kingdom\",\"Italy\",\"Taiwan\",\"Spain\",\"Mexico\",\"Saudi\",\"Australia\",\"South\",\"Turkey\",\"Iran\",\"Indonesia\",\"Ukraine\",\"Thailand\",\"Poland\",\"Egypt\",\"Sweden\",\"Norway\",\"Malaysia\",\"Argentina\",\"Netherlands\",\"Vietnam\",\"Venezuela\",\"United Arab Emirates\",\"Finland\",\"Belgium\",\"Kazakhstan\",\"Pakistan\",\"Philippines\",\"Austria\",\"Chile\",\"Czechia\",\"Israel\",\"Switzerland\",\"Greece\",\"Iraq\",\"Romania\",\"Kuwait\",\"Colombia\",\"Singapore\",\"Portugal\",\"Uzbekistan\",\"Hong\",\"Algeria\",\"Bangladesh\",\"New\",\"Bulgaria\",\"Belarus\",\"Peru\",\"Denmark\",\"Qatar\",\"Slovakia\",\"Libya\",\"Serbia\",\"Morocco\",\"Syria\",\"Nigeria\",\"Ireland\",\"Hungary\",\"Oman\",\"Ecuador\",\"Puerto\",\"Azerbaijan\",\"Croatia\",\"Iceland\",\"Cuba\",\"Korea,\",\"Dominican\",\"Jordan\",\"Tajikistan\",\"Tunisia\",\"Slovenia\",\"Lebanon\",\"Bosnia\",\"Turkmenistan\",\"Bahrain\",\"Mozambique\",\"Ghana\",\"Sri\",\"Kyrgyzstan\",\"Lithuania\",\"Uruguay\",\"Costa\",\"Guatemala\",\"Georgia\",\"Trinidad\",\"Zambia\",\"Paraguay\",\"Albania\",\"Burma\",\"Estonia\",\"Congo,\",\"Panama\",\"Latvia\",\"Macedonia\",\"Zimbabwe\",\"Kenya\",\"Bolivia\",\"Luxembourg\",\"Sudan\",\"El\",\"Cameroon\",\"West\",\"Ethiopia\",\"Armenia\",\"Honduras\",\"Angola\",\"Cote\",\"Tanzania\",\"Nicaragua\",\"Moldova\",\"Cyprus\",\"Macau\",\"Namibia\",\"Mongolia\",\"Afghanistan\",\"Yemen\",\"Brunei\",\"Cambodia\",\"Montenegro\",\"Nepal\",\"Botswana\",\"Papua\",\"Jamaica\",\"Kosovo\",\"Laos\",\"Uganda\",\"New\",\"Mauritius\",\"Senegal\",\"Bhutan\",\"Malawi\",\"Madagascar\",\"Bahamas,\",\"Gabon\",\"Suriname\",\"Guam\",\"Liechtenstein\",\"Swaziland\",\"Burkina\",\"Togo\",\"Curacao\",\"Mauritania\",\"Barbados\",\"Niger\",\"Aruba\",\"Benin\",\"Guinea\",\"Mali\",\"Fiji\",\"Congo,\",\"Virgin\",\"Lesotho\",\"South\",\"Bermuda\",\"French\",\"Jersey\",\"Belize\",\"Andorra\",\"Guyana\",\"Cayman\",\"Haiti\",\"Rwanda\",\"Saint\",\"Djibouti\",\"Seychelles\",\"Somalia\",\"Antigua\",\"Greenland\",\"Cabo\",\"Eritrea\",\"Burundi\",\"Liberia\",\"Maldives\",\"Faroe\",\"Gambia,\",\"Chad\",\"Micronesia,\",\"Grenada\",\"Central\",\"Turks\",\"Gibraltar\",\"American\",\"Sierra\",\"Saint\",\"Saint\",\"Timor-Leste\",\"Equatorial\",\"Samoa\",\"Dominica\",\"Western\",\"Solomon\",\"Sao\",\"British\",\"Vanuatu\",\"Guinea-Bissau\",\"Tonga\",\"Saint\",\"Comoros\",\"Cook\",\"Kiribati\",\"Montserrat\",\"Nauru\",\"Falkland\",\"Saint\",\"Niue\",\"Gaza\",\"Malta\",\"Northern\"],\"text\":[\"China\",\"United States\",\"European\",\"Russia\",\"Japan\",\"India\",\"Germany\",\"Canada\",\"Brazil\",\"Korea,\",\"France\",\"United Kingdom\",\"Italy\",\"Taiwan\",\"Spain\",\"Mexico\",\"Saudi\",\"Australia\",\"South\",\"Turkey\",\"Iran\",\"Indonesia\",\"Ukraine\",\"Thailand\",\"Poland\",\"Egypt\",\"Sweden\",\"Norway\",\"Malaysia\",\"Argentina\",\"Netherlands\",\"Vietnam\",\"Venezuela\",\"United Arab Emirates\",\"Finland\",\"Belgium\",\"Kazakhstan\",\"Pakistan\",\"Philippines\",\"Austria\",\"Chile\",\"Czechia\",\"Israel\",\"Switzerland\",\"Greece\",\"Iraq\",\"Romania\",\"Kuwait\",\"Colombia\",\"Singapore\",\"Portugal\",\"Uzbekistan\",\"Hong\",\"Algeria\",\"Bangladesh\",\"New\",\"Bulgaria\",\"Belarus\",\"Peru\",\"Denmark\",\"Qatar\",\"Slovakia\",\"Libya\",\"Serbia\",\"Morocco\",\"Syria\",\"Nigeria\",\"Ireland\",\"Hungary\",\"Oman\",\"Ecuador\",\"Puerto\",\"Azerbaijan\",\"Croatia\",\"Iceland\",\"Cuba\",\"Korea,\",\"Dominican\",\"Jordan\",\"Tajikistan\",\"Tunisia\",\"Slovenia\",\"Lebanon\",\"Bosnia\",\"Turkmenistan\",\"Bahrain\",\"Mozambique\",\"Ghana\",\"Sri\",\"Kyrgyzstan\",\"Lithuania\",\"Uruguay\",\"Costa\",\"Guatemala\",\"Georgia\",\"Trinidad\",\"Zambia\",\"Paraguay\",\"Albania\",\"Burma\",\"Estonia\",\"Congo,\",\"Panama\",\"Latvia\",\"Macedonia\",\"Zimbabwe\",\"Kenya\",\"Bolivia\",\"Luxembourg\",\"Sudan\",\"El\",\"Cameroon\",\"West\",\"Ethiopia\",\"Armenia\",\"Honduras\",\"Angola\",\"Cote\",\"Tanzania\",\"Nicaragua\",\"Moldova\",\"Cyprus\",\"Macau\",\"Namibia\",\"Mongolia\",\"Afghanistan\",\"Yemen\",\"Brunei\",\"Cambodia\",\"Montenegro\",\"Nepal\",\"Botswana\",\"Papua\",\"Jamaica\",\"Kosovo\",\"Laos\",\"Uganda\",\"New\",\"Mauritius\",\"Senegal\",\"Bhutan\",\"Malawi\",\"Madagascar\",\"Bahamas,\",\"Gabon\",\"Suriname\",\"Guam\",\"Liechtenstein\",\"Swaziland\",\"Burkina\",\"Togo\",\"Curacao\",\"Mauritania\",\"Barbados\",\"Niger\",\"Aruba\",\"Benin\",\"Guinea\",\"Mali\",\"Fiji\",\"Congo,\",\"Virgin\",\"Lesotho\",\"South\",\"Bermuda\",\"French\",\"Jersey\",\"Belize\",\"Andorra\",\"Guyana\",\"Cayman\",\"Haiti\",\"Rwanda\",\"Saint\",\"Djibouti\",\"Seychelles\",\"Somalia\",\"Antigua\",\"Greenland\",\"Cabo\",\"Eritrea\",\"Burundi\",\"Liberia\",\"Maldives\",\"Faroe\",\"Gambia,\",\"Chad\",\"Micronesia,\",\"Grenada\",\"Central\",\"Turks\",\"Gibraltar\",\"American\",\"Sierra\",\"Saint\",\"Saint\",\"Timor-Leste\",\"Equatorial\",\"Samoa\",\"Dominica\",\"Western\",\"Solomon\",\"Sao\",\"British\",\"Vanuatu\",\"Guinea-Bissau\",\"Tonga\",\"Saint\",\"Comoros\",\"Cook\",\"Kiribati\",\"Montserrat\",\"Nauru\",\"Falkland\",\"Saint\",\"Niue\",\"Gaza\",\"Malta\",\"Northern\"],\"z\":[5523000000000.0,3832000000000.0,2771000000000.0,1065000000000.0,921000000000.0,864700000000.0,540100000000.0,511000000000.0,483500000000.0,482400000000.0,451100000000.0,319100000000.0,303100000000.0,249500000000.0,243100000000.0,234000000000.0,231600000000.0,222600000000.0,211600000000.0,197000000000.0,195300000000.0,167500000000.0,159800000000.0,155900000000.0,139000000000.0,135600000000.0,130500000000.0,126400000000.0,118500000000.0,117100000000.0,116800000000.0,108300000000.0,97690000000.0,93280000000.0,82040000000.0,81890000000.0,80290000000.0,78890000000.0,75270000000.0,69750000000.0,63390000000.0,60550000000.0,59830000000.0,58010000000.0,57730000000.0,53410000000.0,50730000000.0,50000000000.0,49380000000.0,47180000000.0,46250000000.0,45210000000.0,44210000000.0,42870000000.0,41520000000.0,40300000000.0,37990000000.0,37880000000.0,35690000000.0,31960000000.0,30530000000.0,28360000000.0,27540000000.0,26910000000.0,26700000000.0,25700000000.0,24780000000.0,24240000000.0,21550000000.0,20360000000.0,19020000000.0,18620000000.0,17790000000.0,16970000000.0,16940000000.0,16200000000.0,16000000000.0,15140000000.0,14560000000.0,14420000000.0,13310000000.0,13020000000.0,12940000000.0,12560000000.0,11750000000.0,11690000000.0,11280000000.0,10580000000.0,10170000000.0,9943000000.0,9664000000.0,9559000000.0,8987000000.0,8915000000.0,8468000000.0,8365000000.0,8327000000.0,8125000000.0,7793000000.0,7765000000.0,7417000000.0,7292000000.0,7144000000.0,7141000000.0,6960000000.0,6831000000.0,6627000000.0,6456000000.0,6108000000.0,5665000000.0,5665000000.0,5535000000.0,5312000000.0,5227000000.0,5043000000.0,5036000000.0,4842000000.0,4731000000.0,4545000000.0,4412000000.0,4305000000.0,4296000000.0,4291000000.0,4238000000.0,4204000000.0,3893000000.0,3838000000.0,3766000000.0,3553000000.0,3465000000.0,3239000000.0,3213000000.0,3116000000.0,3008000000.0,2887000000.0,2874000000.0,2821000000.0,2716000000.0,2658000000.0,2586000000.0,2085000000.0,2027000000.0,1883000000.0,1716000000.0,1680000000.0,1572000000.0,1566000000.0,1360000000.0,1295000000.0,985500000.0,976000000.0,968000000.0,962600000.0,938000000.0,930200000.0,920700000.0,911000000.0,903000000.0,882600000.0,777600000.0,740000000.0,723500000.0,707000000.0,694100000.0,664200000.0,652900000.0,630100000.0,605000000.0,562400000.0,558000000.0,545900000.0,452000000.0,365500000.0,336400000.0,311600000.0,293900000.0,293000000.0,293000000.0,292000000.0,285500000.0,284000000.0,282900000.0,276900000.0,267100000.0,261300000.0,218600000.0,190700000.0,178600000.0,178000000.0,168300000.0,167400000.0,160000000.0,146000000.0,134900000.0,130200000.0,127400000.0,125300000.0,93000000.0,90400000.0,89750000.0,83700000.0,79050000.0,60450000.0,51150000.0,49290000.0,46500000.0,44640000.0,39990000.0,39990000.0,28950000.0,24180000.0,23250000.0,23250000.0,11160000.0,7440000.0,2790000.0,202000.0,174700.0,48300.0],\"type\":\"choropleth\"}],                        {\"geo\":{\"projection\":{\"type\":\"mercator\"},\"showframe\":false},\"title\":{\"text\":\"2014_World_Power_Consumption\"},\"template\":{\"data\":{\"histogram2dcontour\":[{\"type\":\"histogram2dcontour\",\"colorbar\":{\"outlinewidth\":0,\"ticks\":\"\"},\"colorscale\":[[0.0,\"#0d0887\"],[0.1111111111111111,\"#46039f\"],[0.2222222222222222,\"#7201a8\"],[0.3333333333333333,\"#9c179e\"],[0.4444444444444444,\"#bd3786\"],[0.5555555555555556,\"#d8576b\"],[0.6666666666666666,\"#ed7953\"],[0.7777777777777778,\"#fb9f3a\"],[0.8888888888888888,\"#fdca26\"],[1.0,\"#f0f921\"]]}],\"choropleth\":[{\"type\":\"choropleth\",\"colorbar\":{\"outlinewidth\":0,\"ticks\":\"\"}}],\"histogram2d\":[{\"type\":\"histogram2d\",\"colorbar\":{\"outlinewidth\":0,\"ticks\":\"\"},\"colorscale\":[[0.0,\"#0d0887\"],[0.1111111111111111,\"#46039f\"],[0.2222222222222222,\"#7201a8\"],[0.3333333333333333,\"#9c179e\"],[0.4444444444444444,\"#bd3786\"],[0.5555555555555556,\"#d8576b\"],[0.6666666666666666,\"#ed7953\"],[0.7777777777777778,\"#fb9f3a\"],[0.8888888888888888,\"#fdca26\"],[1.0,\"#f0f921\"]]}],\"heatmap\":[{\"type\":\"heatmap\",\"colorbar\":{\"outlinewidth\":0,\"ticks\":\"\"},\"colorscale\":[[0.0,\"#0d0887\"],[0.1111111111111111,\"#46039f\"],[0.2222222222222222,\"#7201a8\"],[0.3333333333333333,\"#9c179e\"],[0.4444444444444444,\"#bd3786\"],[0.5555555555555556,\"#d8576b\"],[0.6666666666666666,\"#ed7953\"],[0.7777777777777778,\"#fb9f3a\"],[0.8888888888888888,\"#fdca26\"],[1.0,\"#f0f921\"]]}],\"heatmapgl\":[{\"type\":\"heatmapgl\",\"colorbar\":{\"outlinewidth\":0,\"ticks\":\"\"},\"colorscale\":[[0.0,\"#0d0887\"],[0.1111111111111111,\"#46039f\"],[0.2222222222222222,\"#7201a8\"],[0.3333333333333333,\"#9c179e\"],[0.4444444444444444,\"#bd3786\"],[0.5555555555555556,\"#d8576b\"],[0.6666666666666666,\"#ed7953\"],[0.7777777777777778,\"#fb9f3a\"],[0.8888888888888888,\"#fdca26\"],[1.0,\"#f0f921\"]]}],\"contourcarpet\":[{\"type\":\"contourcarpet\",\"colorbar\":{\"outlinewidth\":0,\"ticks\":\"\"}}],\"contour\":[{\"type\":\"contour\",\"colorbar\":{\"outlinewidth\":0,\"ticks\":\"\"},\"colorscale\":[[0.0,\"#0d0887\"],[0.1111111111111111,\"#46039f\"],[0.2222222222222222,\"#7201a8\"],[0.3333333333333333,\"#9c179e\"],[0.4444444444444444,\"#bd3786\"],[0.5555555555555556,\"#d8576b\"],[0.6666666666666666,\"#ed7953\"],[0.7777777777777778,\"#fb9f3a\"],[0.8888888888888888,\"#fdca26\"],[1.0,\"#f0f921\"]]}],\"surface\":[{\"type\":\"surface\",\"colorbar\":{\"outlinewidth\":0,\"ticks\":\"\"},\"colorscale\":[[0.0,\"#0d0887\"],[0.1111111111111111,\"#46039f\"],[0.2222222222222222,\"#7201a8\"],[0.3333333333333333,\"#9c179e\"],[0.4444444444444444,\"#bd3786\"],[0.5555555555555556,\"#d8576b\"],[0.6666666666666666,\"#ed7953\"],[0.7777777777777778,\"#fb9f3a\"],[0.8888888888888888,\"#fdca26\"],[1.0,\"#f0f921\"]]}],\"mesh3d\":[{\"type\":\"mesh3d\",\"colorbar\":{\"outlinewidth\":0,\"ticks\":\"\"}}],\"scatter\":[{\"fillpattern\":{\"fillmode\":\"overlay\",\"size\":10,\"solidity\":0.2},\"type\":\"scatter\"}],\"parcoords\":[{\"type\":\"parcoords\",\"line\":{\"colorbar\":{\"outlinewidth\":0,\"ticks\":\"\"}}}],\"scatterpolargl\":[{\"type\":\"scatterpolargl\",\"marker\":{\"colorbar\":{\"outlinewidth\":0,\"ticks\":\"\"}}}],\"bar\":[{\"error_x\":{\"color\":\"#2a3f5f\"},\"error_y\":{\"color\":\"#2a3f5f\"},\"marker\":{\"line\":{\"color\":\"#E5ECF6\",\"width\":0.5},\"pattern\":{\"fillmode\":\"overlay\",\"size\":10,\"solidity\":0.2}},\"type\":\"bar\"}],\"scattergeo\":[{\"type\":\"scattergeo\",\"marker\":{\"colorbar\":{\"outlinewidth\":0,\"ticks\":\"\"}}}],\"scatterpolar\":[{\"type\":\"scatterpolar\",\"marker\":{\"colorbar\":{\"outlinewidth\":0,\"ticks\":\"\"}}}],\"histogram\":[{\"marker\":{\"pattern\":{\"fillmode\":\"overlay\",\"size\":10,\"solidity\":0.2}},\"type\":\"histogram\"}],\"scattergl\":[{\"type\":\"scattergl\",\"marker\":{\"colorbar\":{\"outlinewidth\":0,\"ticks\":\"\"}}}],\"scatter3d\":[{\"type\":\"scatter3d\",\"line\":{\"colorbar\":{\"outlinewidth\":0,\"ticks\":\"\"}},\"marker\":{\"colorbar\":{\"outlinewidth\":0,\"ticks\":\"\"}}}],\"scattermapbox\":[{\"type\":\"scattermapbox\",\"marker\":{\"colorbar\":{\"outlinewidth\":0,\"ticks\":\"\"}}}],\"scatterternary\":[{\"type\":\"scatterternary\",\"marker\":{\"colorbar\":{\"outlinewidth\":0,\"ticks\":\"\"}}}],\"scattercarpet\":[{\"type\":\"scattercarpet\",\"marker\":{\"colorbar\":{\"outlinewidth\":0,\"ticks\":\"\"}}}],\"carpet\":[{\"aaxis\":{\"endlinecolor\":\"#2a3f5f\",\"gridcolor\":\"white\",\"linecolor\":\"white\",\"minorgridcolor\":\"white\",\"startlinecolor\":\"#2a3f5f\"},\"baxis\":{\"endlinecolor\":\"#2a3f5f\",\"gridcolor\":\"white\",\"linecolor\":\"white\",\"minorgridcolor\":\"white\",\"startlinecolor\":\"#2a3f5f\"},\"type\":\"carpet\"}],\"table\":[{\"cells\":{\"fill\":{\"color\":\"#EBF0F8\"},\"line\":{\"color\":\"white\"}},\"header\":{\"fill\":{\"color\":\"#C8D4E3\"},\"line\":{\"color\":\"white\"}},\"type\":\"table\"}],\"barpolar\":[{\"marker\":{\"line\":{\"color\":\"#E5ECF6\",\"width\":0.5},\"pattern\":{\"fillmode\":\"overlay\",\"size\":10,\"solidity\":0.2}},\"type\":\"barpolar\"}],\"pie\":[{\"automargin\":true,\"type\":\"pie\"}]},\"layout\":{\"autotypenumbers\":\"strict\",\"colorway\":[\"#636efa\",\"#EF553B\",\"#00cc96\",\"#ab63fa\",\"#FFA15A\",\"#19d3f3\",\"#FF6692\",\"#B6E880\",\"#FF97FF\",\"#FECB52\"],\"font\":{\"color\":\"#2a3f5f\"},\"hovermode\":\"closest\",\"hoverlabel\":{\"align\":\"left\"},\"paper_bgcolor\":\"white\",\"plot_bgcolor\":\"#E5ECF6\",\"polar\":{\"bgcolor\":\"#E5ECF6\",\"angularaxis\":{\"gridcolor\":\"white\",\"linecolor\":\"white\",\"ticks\":\"\"},\"radialaxis\":{\"gridcolor\":\"white\",\"linecolor\":\"white\",\"ticks\":\"\"}},\"ternary\":{\"bgcolor\":\"#E5ECF6\",\"aaxis\":{\"gridcolor\":\"white\",\"linecolor\":\"white\",\"ticks\":\"\"},\"baxis\":{\"gridcolor\":\"white\",\"linecolor\":\"white\",\"ticks\":\"\"},\"caxis\":{\"gridcolor\":\"white\",\"linecolor\":\"white\",\"ticks\":\"\"}},\"coloraxis\":{\"colorbar\":{\"outlinewidth\":0,\"ticks\":\"\"}},\"colorscale\":{\"sequential\":[[0.0,\"#0d0887\"],[0.1111111111111111,\"#46039f\"],[0.2222222222222222,\"#7201a8\"],[0.3333333333333333,\"#9c179e\"],[0.4444444444444444,\"#bd3786\"],[0.5555555555555556,\"#d8576b\"],[0.6666666666666666,\"#ed7953\"],[0.7777777777777778,\"#fb9f3a\"],[0.8888888888888888,\"#fdca26\"],[1.0,\"#f0f921\"]],\"sequentialminus\":[[0.0,\"#0d0887\"],[0.1111111111111111,\"#46039f\"],[0.2222222222222222,\"#7201a8\"],[0.3333333333333333,\"#9c179e\"],[0.4444444444444444,\"#bd3786\"],[0.5555555555555556,\"#d8576b\"],[0.6666666666666666,\"#ed7953\"],[0.7777777777777778,\"#fb9f3a\"],[0.8888888888888888,\"#fdca26\"],[1.0,\"#f0f921\"]],\"diverging\":[[0,\"#8e0152\"],[0.1,\"#c51b7d\"],[0.2,\"#de77ae\"],[0.3,\"#f1b6da\"],[0.4,\"#fde0ef\"],[0.5,\"#f7f7f7\"],[0.6,\"#e6f5d0\"],[0.7,\"#b8e186\"],[0.8,\"#7fbc41\"],[0.9,\"#4d9221\"],[1,\"#276419\"]]},\"xaxis\":{\"gridcolor\":\"white\",\"linecolor\":\"white\",\"ticks\":\"\",\"title\":{\"standoff\":15},\"zerolinecolor\":\"white\",\"automargin\":true,\"zerolinewidth\":2},\"yaxis\":{\"gridcolor\":\"white\",\"linecolor\":\"white\",\"ticks\":\"\",\"title\":{\"standoff\":15},\"zerolinecolor\":\"white\",\"automargin\":true,\"zerolinewidth\":2},\"scene\":{\"xaxis\":{\"backgroundcolor\":\"#E5ECF6\",\"gridcolor\":\"white\",\"linecolor\":\"white\",\"showbackground\":true,\"ticks\":\"\",\"zerolinecolor\":\"white\",\"gridwidth\":2},\"yaxis\":{\"backgroundcolor\":\"#E5ECF6\",\"gridcolor\":\"white\",\"linecolor\":\"white\",\"showbackground\":true,\"ticks\":\"\",\"zerolinecolor\":\"white\",\"gridwidth\":2},\"zaxis\":{\"backgroundcolor\":\"#E5ECF6\",\"gridcolor\":\"white\",\"linecolor\":\"white\",\"showbackground\":true,\"ticks\":\"\",\"zerolinecolor\":\"white\",\"gridwidth\":2}},\"shapedefaults\":{\"line\":{\"color\":\"#2a3f5f\"}},\"annotationdefaults\":{\"arrowcolor\":\"#2a3f5f\",\"arrowhead\":0,\"arrowwidth\":1},\"geo\":{\"bgcolor\":\"white\",\"landcolor\":\"#E5ECF6\",\"subunitcolor\":\"white\",\"showland\":true,\"showlakes\":true,\"lakecolor\":\"white\"},\"title\":{\"x\":0.05},\"mapbox\":{\"style\":\"light\"}}}},                        {\"responsive\": true}                    ).then(function(){\n",
       "                            \n",
       "var gd = document.getElementById('dc716c82-d394-4ff7-9586-142c232dcad9');\n",
       "var x = new MutationObserver(function (mutations, observer) {{\n",
       "        var display = window.getComputedStyle(gd).display;\n",
       "        if (!display || display === 'none') {{\n",
       "            console.log([gd, 'removed!']);\n",
       "            Plotly.purge(gd);\n",
       "            observer.disconnect();\n",
       "        }}\n",
       "}});\n",
       "\n",
       "// Listen for the removal of the full notebook cells\n",
       "var notebookContainer = gd.closest('#notebook-container');\n",
       "if (notebookContainer) {{\n",
       "    x.observe(notebookContainer, {childList: true});\n",
       "}}\n",
       "\n",
       "// Listen for the clearing of the current output cell\n",
       "var outputEl = gd.closest('.output');\n",
       "if (outputEl) {{\n",
       "    x.observe(outputEl, {childList: true});\n",
       "}}\n",
       "\n",
       "                        })                };                });            </script>        </div>"
      ]
     },
     "metadata": {},
     "output_type": "display_data"
    }
   ],
   "source": [
    "choromap = go.Figure(data = [data],layout = layout)\n",
    "iplot(choromap,validate=False)"
   ]
  },
  {
   "cell_type": "markdown",
   "metadata": {},
   "source": [
    "## USA Choropleth\n",
    "\n",
    "** Import the 2012_Election_Data csv file using pandas. **"
   ]
  },
  {
   "cell_type": "code",
   "execution_count": 5,
   "metadata": {},
   "outputs": [],
   "source": [
    "sddf = pd.read_csv('2012_Election_Data')"
   ]
  },
  {
   "cell_type": "markdown",
   "metadata": {},
   "source": [
    "** Check the head of the DataFrame. **"
   ]
  },
  {
   "cell_type": "code",
   "execution_count": 18,
   "metadata": {
    "collapsed": false,
    "jupyter": {
     "outputs_hidden": false
    }
   },
   "outputs": [
    {
     "data": {
      "text/html": [
       "<div>\n",
       "<style scoped>\n",
       "    .dataframe tbody tr th:only-of-type {\n",
       "        vertical-align: middle;\n",
       "    }\n",
       "\n",
       "    .dataframe tbody tr th {\n",
       "        vertical-align: top;\n",
       "    }\n",
       "\n",
       "    .dataframe thead th {\n",
       "        text-align: right;\n",
       "    }\n",
       "</style>\n",
       "<table border=\"1\" class=\"dataframe\">\n",
       "  <thead>\n",
       "    <tr style=\"text-align: right;\">\n",
       "      <th></th>\n",
       "      <th>Year</th>\n",
       "      <th>ICPSR State Code</th>\n",
       "      <th>Alphanumeric State Code</th>\n",
       "      <th>State</th>\n",
       "      <th>VEP Total Ballots Counted</th>\n",
       "      <th>VEP Highest Office</th>\n",
       "      <th>VAP Highest Office</th>\n",
       "      <th>Total Ballots Counted</th>\n",
       "      <th>Highest Office</th>\n",
       "      <th>Voting-Eligible Population (VEP)</th>\n",
       "      <th>Voting-Age Population (VAP)</th>\n",
       "      <th>% Non-citizen</th>\n",
       "      <th>Prison</th>\n",
       "      <th>Probation</th>\n",
       "      <th>Parole</th>\n",
       "      <th>Total Ineligible Felon</th>\n",
       "      <th>State Abv</th>\n",
       "    </tr>\n",
       "  </thead>\n",
       "  <tbody>\n",
       "    <tr>\n",
       "      <th>0</th>\n",
       "      <td>2012</td>\n",
       "      <td>41</td>\n",
       "      <td>1</td>\n",
       "      <td>Alabama</td>\n",
       "      <td>NaN</td>\n",
       "      <td>58.6%</td>\n",
       "      <td>56.0%</td>\n",
       "      <td>NaN</td>\n",
       "      <td>2,074,338</td>\n",
       "      <td>3,539,217</td>\n",
       "      <td>3707440.0</td>\n",
       "      <td>2.6%</td>\n",
       "      <td>32,232</td>\n",
       "      <td>57,993</td>\n",
       "      <td>8,616</td>\n",
       "      <td>71,584</td>\n",
       "      <td>AL</td>\n",
       "    </tr>\n",
       "    <tr>\n",
       "      <th>1</th>\n",
       "      <td>2012</td>\n",
       "      <td>81</td>\n",
       "      <td>2</td>\n",
       "      <td>Alaska</td>\n",
       "      <td>58.9%</td>\n",
       "      <td>58.7%</td>\n",
       "      <td>55.3%</td>\n",
       "      <td>301,694</td>\n",
       "      <td>300,495</td>\n",
       "      <td>511,792</td>\n",
       "      <td>543763.0</td>\n",
       "      <td>3.8%</td>\n",
       "      <td>5,633</td>\n",
       "      <td>7,173</td>\n",
       "      <td>1,882</td>\n",
       "      <td>11,317</td>\n",
       "      <td>AK</td>\n",
       "    </tr>\n",
       "    <tr>\n",
       "      <th>2</th>\n",
       "      <td>2012</td>\n",
       "      <td>61</td>\n",
       "      <td>3</td>\n",
       "      <td>Arizona</td>\n",
       "      <td>53.0%</td>\n",
       "      <td>52.6%</td>\n",
       "      <td>46.5%</td>\n",
       "      <td>2,323,579</td>\n",
       "      <td>2,306,559</td>\n",
       "      <td>4,387,900</td>\n",
       "      <td>4959270.0</td>\n",
       "      <td>9.9%</td>\n",
       "      <td>35,188</td>\n",
       "      <td>72,452</td>\n",
       "      <td>7,460</td>\n",
       "      <td>81,048</td>\n",
       "      <td>AZ</td>\n",
       "    </tr>\n",
       "    <tr>\n",
       "      <th>3</th>\n",
       "      <td>2012</td>\n",
       "      <td>42</td>\n",
       "      <td>4</td>\n",
       "      <td>Arkansas</td>\n",
       "      <td>51.1%</td>\n",
       "      <td>50.7%</td>\n",
       "      <td>47.7%</td>\n",
       "      <td>1,078,548</td>\n",
       "      <td>1,069,468</td>\n",
       "      <td>2,109,847</td>\n",
       "      <td>2242740.0</td>\n",
       "      <td>3.5%</td>\n",
       "      <td>14,471</td>\n",
       "      <td>30,122</td>\n",
       "      <td>23,372</td>\n",
       "      <td>53,808</td>\n",
       "      <td>AR</td>\n",
       "    </tr>\n",
       "    <tr>\n",
       "      <th>4</th>\n",
       "      <td>2012</td>\n",
       "      <td>71</td>\n",
       "      <td>5</td>\n",
       "      <td>California</td>\n",
       "      <td>55.7%</td>\n",
       "      <td>55.1%</td>\n",
       "      <td>45.1%</td>\n",
       "      <td>13,202,158</td>\n",
       "      <td>13,038,547</td>\n",
       "      <td>23,681,837</td>\n",
       "      <td>28913129.0</td>\n",
       "      <td>17.4%</td>\n",
       "      <td>119,455</td>\n",
       "      <td>0</td>\n",
       "      <td>89,287</td>\n",
       "      <td>208,742</td>\n",
       "      <td>CA</td>\n",
       "    </tr>\n",
       "  </tbody>\n",
       "</table>\n",
       "</div>"
      ],
      "text/plain": [
       "   Year  ICPSR State Code  Alphanumeric State Code       State  \\\n",
       "0  2012                41                        1     Alabama   \n",
       "1  2012                81                        2      Alaska   \n",
       "2  2012                61                        3     Arizona   \n",
       "3  2012                42                        4    Arkansas   \n",
       "4  2012                71                        5  California   \n",
       "\n",
       "  VEP Total Ballots Counted VEP Highest Office VAP Highest Office  \\\n",
       "0                       NaN              58.6%              56.0%   \n",
       "1                     58.9%              58.7%              55.3%   \n",
       "2                     53.0%              52.6%              46.5%   \n",
       "3                     51.1%              50.7%              47.7%   \n",
       "4                     55.7%              55.1%              45.1%   \n",
       "\n",
       "  Total Ballots Counted Highest Office Voting-Eligible Population (VEP)  \\\n",
       "0                   NaN      2,074,338                        3,539,217   \n",
       "1               301,694        300,495                          511,792   \n",
       "2             2,323,579      2,306,559                        4,387,900   \n",
       "3             1,078,548      1,069,468                        2,109,847   \n",
       "4            13,202,158     13,038,547                       23,681,837   \n",
       "\n",
       "   Voting-Age Population (VAP) % Non-citizen   Prison Probation  Parole  \\\n",
       "0                    3707440.0          2.6%   32,232    57,993   8,616   \n",
       "1                     543763.0          3.8%    5,633     7,173   1,882   \n",
       "2                    4959270.0          9.9%   35,188    72,452   7,460   \n",
       "3                    2242740.0          3.5%   14,471    30,122  23,372   \n",
       "4                   28913129.0         17.4%  119,455         0  89,287   \n",
       "\n",
       "  Total Ineligible Felon State Abv  \n",
       "0                 71,584        AL  \n",
       "1                 11,317        AK  \n",
       "2                 81,048        AZ  \n",
       "3                 53,808        AR  \n",
       "4                208,742        CA  "
      ]
     },
     "execution_count": 18,
     "metadata": {},
     "output_type": "execute_result"
    }
   ],
   "source": [
    "sddf.head()"
   ]
  },
  {
   "cell_type": "markdown",
   "metadata": {},
   "source": [
    "** Now create a plot that displays the Voting-Age Population (VAP) per state. If you later want to play around with other columns, make sure you consider their data type. VAP has already been transformed to a float for you. **"
   ]
  },
  {
   "cell_type": "code",
   "execution_count": 6,
   "metadata": {
    "collapsed": false,
    "jupyter": {
     "outputs_hidden": false
    }
   },
   "outputs": [],
   "source": [
    "data = dict(type = 'choropleth',\n",
    "           locations = sddf['State Abv'],\n",
    "           locationmode = 'USA-states',\n",
    "           z = sddf['Voting-Age Population (VAP)'],\n",
    "           text = sddf['State'],\n",
    "           colorbar = {'title': 'Population of voters'})"
   ]
  },
  {
   "cell_type": "code",
   "execution_count": 7,
   "metadata": {},
   "outputs": [],
   "source": [
    "layout = dict(title = 'Voters in Election',\n",
    "             geo = dict (showframe = False, projection = {'type': 'mercator'}))"
   ]
  },
  {
   "cell_type": "code",
   "execution_count": null,
   "metadata": {
    "collapsed": true,
    "jupyter": {
     "outputs_hidden": true
    }
   },
   "outputs": [],
   "source": []
  },
  {
   "cell_type": "code",
   "execution_count": 8,
   "metadata": {
    "collapsed": false,
    "jupyter": {
     "outputs_hidden": false
    }
   },
   "outputs": [
    {
     "data": {
      "application/vnd.plotly.v1+json": {
       "config": {
        "linkText": "Export to plot.ly",
        "plotlyServerURL": "https://plot.ly",
        "showLink": false
       },
       "data": [
        {
         "colorbar": {
          "title": {
           "text": "Population of voters"
          }
         },
         "locationmode": "USA-states",
         "locations": [
          "AL",
          "AK",
          "AZ",
          "AR",
          "CA",
          "CO",
          "CT",
          "DE",
          "District of Columbia",
          "FL",
          "GA",
          "HI",
          "ID",
          "IL",
          "IN",
          "IA",
          "KS",
          "KY",
          "LA",
          "ME",
          "MD",
          "MA",
          "MI",
          "MN",
          "MS",
          "MO",
          "MT",
          "NE",
          "NV",
          "NH",
          "NJ",
          "NM",
          "NY",
          "NC",
          "ND",
          "OH",
          "OK",
          "OR",
          "PA",
          "RI",
          "SC",
          "SD",
          "TN",
          "TX",
          "UT",
          "VT",
          "VA",
          "WA",
          "WV",
          "WI",
          "WY"
         ],
         "text": [
          "Alabama",
          "Alaska",
          "Arizona",
          "Arkansas",
          "California",
          "Colorado",
          "Connecticut",
          "Delaware",
          "District of Columbia",
          "Florida",
          "Georgia",
          "Hawaii",
          "Idaho",
          "Illinois",
          "Indiana",
          "Iowa",
          "Kansas",
          "Kentucky",
          "Louisiana",
          "Maine",
          "Maryland",
          "Massachusetts",
          "Michigan",
          "Minnesota",
          "Mississippi",
          "Missouri",
          "Montana",
          "Nebraska",
          "Nevada",
          "New Hampshire",
          "New Jersey",
          "New Mexico",
          "New York",
          "North Carolina",
          "North Dakota",
          "Ohio",
          "Oklahoma",
          "Oregon",
          "Pennsylvania",
          "Rhode Island",
          "South Carolina",
          "South Dakota",
          "Tennessee",
          "Texas",
          "Utah",
          "Vermont",
          "Virginia",
          "Washington",
          "West Virginia",
          "Wisconsin",
          "Wyoming"
         ],
         "type": "choropleth",
         "z": [
          3707440,
          543763,
          4959270,
          2242740,
          28913129,
          3981208,
          2801375,
          715708,
          528848,
          15380947,
          7452696,
          1088335,
          1173727,
          9827043,
          4960376,
          2356209,
          2162442,
          3368684,
          3495847,
          1064779,
          4553853,
          5263550,
          7625576,
          4114820,
          2246931,
          4628500,
          785454,
          1396507,
          2105976,
          1047978,
          6847503,
          1573400,
          15344671,
          7496980,
          549955,
          8896930,
          2885093,
          3050747,
          10037099,
          834983,
          3662322,
          631472,
          4976284,
          19185395,
          1978956,
          502242,
          6348827,
          5329782,
          1472642,
          4417273,
          441726
         ]
        }
       ],
       "layout": {
        "autosize": true,
        "geo": {
         "projection": {
          "type": "mercator"
         },
         "showframe": false
        },
        "template": {
         "data": {
          "bar": [
           {
            "error_x": {
             "color": "#2a3f5f"
            },
            "error_y": {
             "color": "#2a3f5f"
            },
            "marker": {
             "line": {
              "color": "#E5ECF6",
              "width": 0.5
             },
             "pattern": {
              "fillmode": "overlay",
              "size": 10,
              "solidity": 0.2
             }
            },
            "type": "bar"
           }
          ],
          "barpolar": [
           {
            "marker": {
             "line": {
              "color": "#E5ECF6",
              "width": 0.5
             },
             "pattern": {
              "fillmode": "overlay",
              "size": 10,
              "solidity": 0.2
             }
            },
            "type": "barpolar"
           }
          ],
          "carpet": [
           {
            "aaxis": {
             "endlinecolor": "#2a3f5f",
             "gridcolor": "white",
             "linecolor": "white",
             "minorgridcolor": "white",
             "startlinecolor": "#2a3f5f"
            },
            "baxis": {
             "endlinecolor": "#2a3f5f",
             "gridcolor": "white",
             "linecolor": "white",
             "minorgridcolor": "white",
             "startlinecolor": "#2a3f5f"
            },
            "type": "carpet"
           }
          ],
          "choropleth": [
           {
            "colorbar": {
             "outlinewidth": 0,
             "ticks": ""
            },
            "type": "choropleth"
           }
          ],
          "contour": [
           {
            "colorbar": {
             "outlinewidth": 0,
             "ticks": ""
            },
            "colorscale": [
             [
              0,
              "#0d0887"
             ],
             [
              0.1111111111111111,
              "#46039f"
             ],
             [
              0.2222222222222222,
              "#7201a8"
             ],
             [
              0.3333333333333333,
              "#9c179e"
             ],
             [
              0.4444444444444444,
              "#bd3786"
             ],
             [
              0.5555555555555556,
              "#d8576b"
             ],
             [
              0.6666666666666666,
              "#ed7953"
             ],
             [
              0.7777777777777778,
              "#fb9f3a"
             ],
             [
              0.8888888888888888,
              "#fdca26"
             ],
             [
              1,
              "#f0f921"
             ]
            ],
            "type": "contour"
           }
          ],
          "contourcarpet": [
           {
            "colorbar": {
             "outlinewidth": 0,
             "ticks": ""
            },
            "type": "contourcarpet"
           }
          ],
          "heatmap": [
           {
            "colorbar": {
             "outlinewidth": 0,
             "ticks": ""
            },
            "colorscale": [
             [
              0,
              "#0d0887"
             ],
             [
              0.1111111111111111,
              "#46039f"
             ],
             [
              0.2222222222222222,
              "#7201a8"
             ],
             [
              0.3333333333333333,
              "#9c179e"
             ],
             [
              0.4444444444444444,
              "#bd3786"
             ],
             [
              0.5555555555555556,
              "#d8576b"
             ],
             [
              0.6666666666666666,
              "#ed7953"
             ],
             [
              0.7777777777777778,
              "#fb9f3a"
             ],
             [
              0.8888888888888888,
              "#fdca26"
             ],
             [
              1,
              "#f0f921"
             ]
            ],
            "type": "heatmap"
           }
          ],
          "heatmapgl": [
           {
            "colorbar": {
             "outlinewidth": 0,
             "ticks": ""
            },
            "colorscale": [
             [
              0,
              "#0d0887"
             ],
             [
              0.1111111111111111,
              "#46039f"
             ],
             [
              0.2222222222222222,
              "#7201a8"
             ],
             [
              0.3333333333333333,
              "#9c179e"
             ],
             [
              0.4444444444444444,
              "#bd3786"
             ],
             [
              0.5555555555555556,
              "#d8576b"
             ],
             [
              0.6666666666666666,
              "#ed7953"
             ],
             [
              0.7777777777777778,
              "#fb9f3a"
             ],
             [
              0.8888888888888888,
              "#fdca26"
             ],
             [
              1,
              "#f0f921"
             ]
            ],
            "type": "heatmapgl"
           }
          ],
          "histogram": [
           {
            "marker": {
             "pattern": {
              "fillmode": "overlay",
              "size": 10,
              "solidity": 0.2
             }
            },
            "type": "histogram"
           }
          ],
          "histogram2d": [
           {
            "colorbar": {
             "outlinewidth": 0,
             "ticks": ""
            },
            "colorscale": [
             [
              0,
              "#0d0887"
             ],
             [
              0.1111111111111111,
              "#46039f"
             ],
             [
              0.2222222222222222,
              "#7201a8"
             ],
             [
              0.3333333333333333,
              "#9c179e"
             ],
             [
              0.4444444444444444,
              "#bd3786"
             ],
             [
              0.5555555555555556,
              "#d8576b"
             ],
             [
              0.6666666666666666,
              "#ed7953"
             ],
             [
              0.7777777777777778,
              "#fb9f3a"
             ],
             [
              0.8888888888888888,
              "#fdca26"
             ],
             [
              1,
              "#f0f921"
             ]
            ],
            "type": "histogram2d"
           }
          ],
          "histogram2dcontour": [
           {
            "colorbar": {
             "outlinewidth": 0,
             "ticks": ""
            },
            "colorscale": [
             [
              0,
              "#0d0887"
             ],
             [
              0.1111111111111111,
              "#46039f"
             ],
             [
              0.2222222222222222,
              "#7201a8"
             ],
             [
              0.3333333333333333,
              "#9c179e"
             ],
             [
              0.4444444444444444,
              "#bd3786"
             ],
             [
              0.5555555555555556,
              "#d8576b"
             ],
             [
              0.6666666666666666,
              "#ed7953"
             ],
             [
              0.7777777777777778,
              "#fb9f3a"
             ],
             [
              0.8888888888888888,
              "#fdca26"
             ],
             [
              1,
              "#f0f921"
             ]
            ],
            "type": "histogram2dcontour"
           }
          ],
          "mesh3d": [
           {
            "colorbar": {
             "outlinewidth": 0,
             "ticks": ""
            },
            "type": "mesh3d"
           }
          ],
          "parcoords": [
           {
            "line": {
             "colorbar": {
              "outlinewidth": 0,
              "ticks": ""
             }
            },
            "type": "parcoords"
           }
          ],
          "pie": [
           {
            "automargin": true,
            "type": "pie"
           }
          ],
          "scatter": [
           {
            "fillpattern": {
             "fillmode": "overlay",
             "size": 10,
             "solidity": 0.2
            },
            "type": "scatter"
           }
          ],
          "scatter3d": [
           {
            "line": {
             "colorbar": {
              "outlinewidth": 0,
              "ticks": ""
             }
            },
            "marker": {
             "colorbar": {
              "outlinewidth": 0,
              "ticks": ""
             }
            },
            "type": "scatter3d"
           }
          ],
          "scattercarpet": [
           {
            "marker": {
             "colorbar": {
              "outlinewidth": 0,
              "ticks": ""
             }
            },
            "type": "scattercarpet"
           }
          ],
          "scattergeo": [
           {
            "marker": {
             "colorbar": {
              "outlinewidth": 0,
              "ticks": ""
             }
            },
            "type": "scattergeo"
           }
          ],
          "scattergl": [
           {
            "marker": {
             "colorbar": {
              "outlinewidth": 0,
              "ticks": ""
             }
            },
            "type": "scattergl"
           }
          ],
          "scattermapbox": [
           {
            "marker": {
             "colorbar": {
              "outlinewidth": 0,
              "ticks": ""
             }
            },
            "type": "scattermapbox"
           }
          ],
          "scatterpolar": [
           {
            "marker": {
             "colorbar": {
              "outlinewidth": 0,
              "ticks": ""
             }
            },
            "type": "scatterpolar"
           }
          ],
          "scatterpolargl": [
           {
            "marker": {
             "colorbar": {
              "outlinewidth": 0,
              "ticks": ""
             }
            },
            "type": "scatterpolargl"
           }
          ],
          "scatterternary": [
           {
            "marker": {
             "colorbar": {
              "outlinewidth": 0,
              "ticks": ""
             }
            },
            "type": "scatterternary"
           }
          ],
          "surface": [
           {
            "colorbar": {
             "outlinewidth": 0,
             "ticks": ""
            },
            "colorscale": [
             [
              0,
              "#0d0887"
             ],
             [
              0.1111111111111111,
              "#46039f"
             ],
             [
              0.2222222222222222,
              "#7201a8"
             ],
             [
              0.3333333333333333,
              "#9c179e"
             ],
             [
              0.4444444444444444,
              "#bd3786"
             ],
             [
              0.5555555555555556,
              "#d8576b"
             ],
             [
              0.6666666666666666,
              "#ed7953"
             ],
             [
              0.7777777777777778,
              "#fb9f3a"
             ],
             [
              0.8888888888888888,
              "#fdca26"
             ],
             [
              1,
              "#f0f921"
             ]
            ],
            "type": "surface"
           }
          ],
          "table": [
           {
            "cells": {
             "fill": {
              "color": "#EBF0F8"
             },
             "line": {
              "color": "white"
             }
            },
            "header": {
             "fill": {
              "color": "#C8D4E3"
             },
             "line": {
              "color": "white"
             }
            },
            "type": "table"
           }
          ]
         },
         "layout": {
          "annotationdefaults": {
           "arrowcolor": "#2a3f5f",
           "arrowhead": 0,
           "arrowwidth": 1
          },
          "autotypenumbers": "strict",
          "coloraxis": {
           "colorbar": {
            "outlinewidth": 0,
            "ticks": ""
           }
          },
          "colorscale": {
           "diverging": [
            [
             0,
             "#8e0152"
            ],
            [
             0.1,
             "#c51b7d"
            ],
            [
             0.2,
             "#de77ae"
            ],
            [
             0.3,
             "#f1b6da"
            ],
            [
             0.4,
             "#fde0ef"
            ],
            [
             0.5,
             "#f7f7f7"
            ],
            [
             0.6,
             "#e6f5d0"
            ],
            [
             0.7,
             "#b8e186"
            ],
            [
             0.8,
             "#7fbc41"
            ],
            [
             0.9,
             "#4d9221"
            ],
            [
             1,
             "#276419"
            ]
           ],
           "sequential": [
            [
             0,
             "#0d0887"
            ],
            [
             0.1111111111111111,
             "#46039f"
            ],
            [
             0.2222222222222222,
             "#7201a8"
            ],
            [
             0.3333333333333333,
             "#9c179e"
            ],
            [
             0.4444444444444444,
             "#bd3786"
            ],
            [
             0.5555555555555556,
             "#d8576b"
            ],
            [
             0.6666666666666666,
             "#ed7953"
            ],
            [
             0.7777777777777778,
             "#fb9f3a"
            ],
            [
             0.8888888888888888,
             "#fdca26"
            ],
            [
             1,
             "#f0f921"
            ]
           ],
           "sequentialminus": [
            [
             0,
             "#0d0887"
            ],
            [
             0.1111111111111111,
             "#46039f"
            ],
            [
             0.2222222222222222,
             "#7201a8"
            ],
            [
             0.3333333333333333,
             "#9c179e"
            ],
            [
             0.4444444444444444,
             "#bd3786"
            ],
            [
             0.5555555555555556,
             "#d8576b"
            ],
            [
             0.6666666666666666,
             "#ed7953"
            ],
            [
             0.7777777777777778,
             "#fb9f3a"
            ],
            [
             0.8888888888888888,
             "#fdca26"
            ],
            [
             1,
             "#f0f921"
            ]
           ]
          },
          "colorway": [
           "#636efa",
           "#EF553B",
           "#00cc96",
           "#ab63fa",
           "#FFA15A",
           "#19d3f3",
           "#FF6692",
           "#B6E880",
           "#FF97FF",
           "#FECB52"
          ],
          "font": {
           "color": "#2a3f5f"
          },
          "geo": {
           "bgcolor": "white",
           "lakecolor": "white",
           "landcolor": "#E5ECF6",
           "showlakes": true,
           "showland": true,
           "subunitcolor": "white"
          },
          "hoverlabel": {
           "align": "left"
          },
          "hovermode": "closest",
          "mapbox": {
           "style": "light"
          },
          "paper_bgcolor": "white",
          "plot_bgcolor": "#E5ECF6",
          "polar": {
           "angularaxis": {
            "gridcolor": "white",
            "linecolor": "white",
            "ticks": ""
           },
           "bgcolor": "#E5ECF6",
           "radialaxis": {
            "gridcolor": "white",
            "linecolor": "white",
            "ticks": ""
           }
          },
          "scene": {
           "xaxis": {
            "backgroundcolor": "#E5ECF6",
            "gridcolor": "white",
            "gridwidth": 2,
            "linecolor": "white",
            "showbackground": true,
            "ticks": "",
            "zerolinecolor": "white"
           },
           "yaxis": {
            "backgroundcolor": "#E5ECF6",
            "gridcolor": "white",
            "gridwidth": 2,
            "linecolor": "white",
            "showbackground": true,
            "ticks": "",
            "zerolinecolor": "white"
           },
           "zaxis": {
            "backgroundcolor": "#E5ECF6",
            "gridcolor": "white",
            "gridwidth": 2,
            "linecolor": "white",
            "showbackground": true,
            "ticks": "",
            "zerolinecolor": "white"
           }
          },
          "shapedefaults": {
           "line": {
            "color": "#2a3f5f"
           }
          },
          "ternary": {
           "aaxis": {
            "gridcolor": "white",
            "linecolor": "white",
            "ticks": ""
           },
           "baxis": {
            "gridcolor": "white",
            "linecolor": "white",
            "ticks": ""
           },
           "bgcolor": "#E5ECF6",
           "caxis": {
            "gridcolor": "white",
            "linecolor": "white",
            "ticks": ""
           }
          },
          "title": {
           "x": 0.05
          },
          "xaxis": {
           "automargin": true,
           "gridcolor": "white",
           "linecolor": "white",
           "ticks": "",
           "title": {
            "standoff": 15
           },
           "zerolinecolor": "white",
           "zerolinewidth": 2
          },
          "yaxis": {
           "automargin": true,
           "gridcolor": "white",
           "linecolor": "white",
           "ticks": "",
           "title": {
            "standoff": 15
           },
           "zerolinecolor": "white",
           "zerolinewidth": 2
          }
         }
        },
        "title": {
         "text": "Voters in Election"
        }
       }
      },
      "image/png": "[encoded data removed]",
      "text/html": [
       "<div>                            <div id=\"3fd71b7c-d369-4c31-a642-7ae03b3b3833\" class=\"plotly-graph-div\" style=\"height:525px; width:100%;\"></div>            <script type=\"text/javascript\">                require([\"plotly\"], function(Plotly) {                    window.PLOTLYENV=window.PLOTLYENV || {};                                    if (document.getElementById(\"3fd71b7c-d369-4c31-a642-7ae03b3b3833\")) {                    Plotly.newPlot(                        \"3fd71b7c-d369-4c31-a642-7ae03b3b3833\",                        [{\"colorbar\":{\"title\":{\"text\":\"Population of voters\"}},\"locationmode\":\"USA-states\",\"locations\":[\"AL\",\"AK\",\"AZ\",\"AR\",\"CA\",\"CO\",\"CT\",\"DE\",\"District of Columbia\",\"FL\",\"GA\",\"HI\",\"ID\",\"IL\",\"IN\",\"IA\",\"KS\",\"KY\",\"LA\",\"ME\",\"MD\",\"MA\",\"MI\",\"MN\",\"MS\",\"MO\",\"MT\",\"NE\",\"NV\",\"NH\",\"NJ\",\"NM\",\"NY\",\"NC\",\"ND\",\"OH\",\"OK\",\"OR\",\"PA\",\"RI\",\"SC\",\"SD\",\"TN\",\"TX\",\"UT\",\"VT\",\"VA\",\"WA\",\"WV\",\"WI\",\"WY\"],\"text\":[\"Alabama\",\"Alaska\",\"Arizona\",\"Arkansas\",\"California\",\"Colorado\",\"Connecticut\",\"Delaware\",\"District of Columbia\",\"Florida\",\"Georgia\",\"Hawaii\",\"Idaho\",\"Illinois\",\"Indiana\",\"Iowa\",\"Kansas\",\"Kentucky\",\"Louisiana\",\"Maine\",\"Maryland\",\"Massachusetts\",\"Michigan\",\"Minnesota\",\"Mississippi\",\"Missouri\",\"Montana\",\"Nebraska\",\"Nevada\",\"New Hampshire\",\"New Jersey\",\"New Mexico\",\"New York\",\"North Carolina\",\"North Dakota\",\"Ohio\",\"Oklahoma\",\"Oregon\",\"Pennsylvania\",\"Rhode Island\",\"South Carolina\",\"South Dakota\",\"Tennessee\",\"Texas\",\"Utah\",\"Vermont\",\"Virginia\",\"Washington\",\"West Virginia\",\"Wisconsin\",\"Wyoming\"],\"z\":[3707440.0,543763.0,4959270.0,2242740.0,28913129.0,3981208.0,2801375.0,715708.0,528848.0,15380947.0,7452696.0,1088335.0,1173727.0,9827043.0,4960376.0,2356209.0,2162442.0,3368684.0,3495847.0,1064779.0,4553853.0,5263550.0,7625576.0,4114820.0,2246931.0,4628500.0,785454.0,1396507.0,2105976.0,1047978.0,6847503.0,1573400.0,15344671.0,7496980.0,549955.0,8896930.0,2885093.0,3050747.0,10037099.0,834983.0,3662322.0,631472.0,4976284.0,19185395.0,1978956.0,502242.0,6348827.0,5329782.0,1472642.0,4417273.0,441726.0],\"type\":\"choropleth\"}],                        {\"geo\":{\"projection\":{\"type\":\"mercator\"},\"showframe\":false},\"title\":{\"text\":\"Voters in Election\"},\"template\":{\"data\":{\"histogram2dcontour\":[{\"type\":\"histogram2dcontour\",\"colorbar\":{\"outlinewidth\":0,\"ticks\":\"\"},\"colorscale\":[[0.0,\"#0d0887\"],[0.1111111111111111,\"#46039f\"],[0.2222222222222222,\"#7201a8\"],[0.3333333333333333,\"#9c179e\"],[0.4444444444444444,\"#bd3786\"],[0.5555555555555556,\"#d8576b\"],[0.6666666666666666,\"#ed7953\"],[0.7777777777777778,\"#fb9f3a\"],[0.8888888888888888,\"#fdca26\"],[1.0,\"#f0f921\"]]}],\"choropleth\":[{\"type\":\"choropleth\",\"colorbar\":{\"outlinewidth\":0,\"ticks\":\"\"}}],\"histogram2d\":[{\"type\":\"histogram2d\",\"colorbar\":{\"outlinewidth\":0,\"ticks\":\"\"},\"colorscale\":[[0.0,\"#0d0887\"],[0.1111111111111111,\"#46039f\"],[0.2222222222222222,\"#7201a8\"],[0.3333333333333333,\"#9c179e\"],[0.4444444444444444,\"#bd3786\"],[0.5555555555555556,\"#d8576b\"],[0.6666666666666666,\"#ed7953\"],[0.7777777777777778,\"#fb9f3a\"],[0.8888888888888888,\"#fdca26\"],[1.0,\"#f0f921\"]]}],\"heatmap\":[{\"type\":\"heatmap\",\"colorbar\":{\"outlinewidth\":0,\"ticks\":\"\"},\"colorscale\":[[0.0,\"#0d0887\"],[0.1111111111111111,\"#46039f\"],[0.2222222222222222,\"#7201a8\"],[0.3333333333333333,\"#9c179e\"],[0.4444444444444444,\"#bd3786\"],[0.5555555555555556,\"#d8576b\"],[0.6666666666666666,\"#ed7953\"],[0.7777777777777778,\"#fb9f3a\"],[0.8888888888888888,\"#fdca26\"],[1.0,\"#f0f921\"]]}],\"heatmapgl\":[{\"type\":\"heatmapgl\",\"colorbar\":{\"outlinewidth\":0,\"ticks\":\"\"},\"colorscale\":[[0.0,\"#0d0887\"],[0.1111111111111111,\"#46039f\"],[0.2222222222222222,\"#7201a8\"],[0.3333333333333333,\"#9c179e\"],[0.4444444444444444,\"#bd3786\"],[0.5555555555555556,\"#d8576b\"],[0.6666666666666666,\"#ed7953\"],[0.7777777777777778,\"#fb9f3a\"],[0.8888888888888888,\"#fdca26\"],[1.0,\"#f0f921\"]]}],\"contourcarpet\":[{\"type\":\"contourcarpet\",\"colorbar\":{\"outlinewidth\":0,\"ticks\":\"\"}}],\"contour\":[{\"type\":\"contour\",\"colorbar\":{\"outlinewidth\":0,\"ticks\":\"\"},\"colorscale\":[[0.0,\"#0d0887\"],[0.1111111111111111,\"#46039f\"],[0.2222222222222222,\"#7201a8\"],[0.3333333333333333,\"#9c179e\"],[0.4444444444444444,\"#bd3786\"],[0.5555555555555556,\"#d8576b\"],[0.6666666666666666,\"#ed7953\"],[0.7777777777777778,\"#fb9f3a\"],[0.8888888888888888,\"#fdca26\"],[1.0,\"#f0f921\"]]}],\"surface\":[{\"type\":\"surface\",\"colorbar\":{\"outlinewidth\":0,\"ticks\":\"\"},\"colorscale\":[[0.0,\"#0d0887\"],[0.1111111111111111,\"#46039f\"],[0.2222222222222222,\"#7201a8\"],[0.3333333333333333,\"#9c179e\"],[0.4444444444444444,\"#bd3786\"],[0.5555555555555556,\"#d8576b\"],[0.6666666666666666,\"#ed7953\"],[0.7777777777777778,\"#fb9f3a\"],[0.8888888888888888,\"#fdca26\"],[1.0,\"#f0f921\"]]}],\"mesh3d\":[{\"type\":\"mesh3d\",\"colorbar\":{\"outlinewidth\":0,\"ticks\":\"\"}}],\"scatter\":[{\"fillpattern\":{\"fillmode\":\"overlay\",\"size\":10,\"solidity\":0.2},\"type\":\"scatter\"}],\"parcoords\":[{\"type\":\"parcoords\",\"line\":{\"colorbar\":{\"outlinewidth\":0,\"ticks\":\"\"}}}],\"scatterpolargl\":[{\"type\":\"scatterpolargl\",\"marker\":{\"colorbar\":{\"outlinewidth\":0,\"ticks\":\"\"}}}],\"bar\":[{\"error_x\":{\"color\":\"#2a3f5f\"},\"error_y\":{\"color\":\"#2a3f5f\"},\"marker\":{\"line\":{\"color\":\"#E5ECF6\",\"width\":0.5},\"pattern\":{\"fillmode\":\"overlay\",\"size\":10,\"solidity\":0.2}},\"type\":\"bar\"}],\"scattergeo\":[{\"type\":\"scattergeo\",\"marker\":{\"colorbar\":{\"outlinewidth\":0,\"ticks\":\"\"}}}],\"scatterpolar\":[{\"type\":\"scatterpolar\",\"marker\":{\"colorbar\":{\"outlinewidth\":0,\"ticks\":\"\"}}}],\"histogram\":[{\"marker\":{\"pattern\":{\"fillmode\":\"overlay\",\"size\":10,\"solidity\":0.2}},\"type\":\"histogram\"}],\"scattergl\":[{\"type\":\"scattergl\",\"marker\":{\"colorbar\":{\"outlinewidth\":0,\"ticks\":\"\"}}}],\"scatter3d\":[{\"type\":\"scatter3d\",\"line\":{\"colorbar\":{\"outlinewidth\":0,\"ticks\":\"\"}},\"marker\":{\"colorbar\":{\"outlinewidth\":0,\"ticks\":\"\"}}}],\"scattermapbox\":[{\"type\":\"scattermapbox\",\"marker\":{\"colorbar\":{\"outlinewidth\":0,\"ticks\":\"\"}}}],\"scatterternary\":[{\"type\":\"scatterternary\",\"marker\":{\"colorbar\":{\"outlinewidth\":0,\"ticks\":\"\"}}}],\"scattercarpet\":[{\"type\":\"scattercarpet\",\"marker\":{\"colorbar\":{\"outlinewidth\":0,\"ticks\":\"\"}}}],\"carpet\":[{\"aaxis\":{\"endlinecolor\":\"#2a3f5f\",\"gridcolor\":\"white\",\"linecolor\":\"white\",\"minorgridcolor\":\"white\",\"startlinecolor\":\"#2a3f5f\"},\"baxis\":{\"endlinecolor\":\"#2a3f5f\",\"gridcolor\":\"white\",\"linecolor\":\"white\",\"minorgridcolor\":\"white\",\"startlinecolor\":\"#2a3f5f\"},\"type\":\"carpet\"}],\"table\":[{\"cells\":{\"fill\":{\"color\":\"#EBF0F8\"},\"line\":{\"color\":\"white\"}},\"header\":{\"fill\":{\"color\":\"#C8D4E3\"},\"line\":{\"color\":\"white\"}},\"type\":\"table\"}],\"barpolar\":[{\"marker\":{\"line\":{\"color\":\"#E5ECF6\",\"width\":0.5},\"pattern\":{\"fillmode\":\"overlay\",\"size\":10,\"solidity\":0.2}},\"type\":\"barpolar\"}],\"pie\":[{\"automargin\":true,\"type\":\"pie\"}]},\"layout\":{\"autotypenumbers\":\"strict\",\"colorway\":[\"#636efa\",\"#EF553B\",\"#00cc96\",\"#ab63fa\",\"#FFA15A\",\"#19d3f3\",\"#FF6692\",\"#B6E880\",\"#FF97FF\",\"#FECB52\"],\"font\":{\"color\":\"#2a3f5f\"},\"hovermode\":\"closest\",\"hoverlabel\":{\"align\":\"left\"},\"paper_bgcolor\":\"white\",\"plot_bgcolor\":\"#E5ECF6\",\"polar\":{\"bgcolor\":\"#E5ECF6\",\"angularaxis\":{\"gridcolor\":\"white\",\"linecolor\":\"white\",\"ticks\":\"\"},\"radialaxis\":{\"gridcolor\":\"white\",\"linecolor\":\"white\",\"ticks\":\"\"}},\"ternary\":{\"bgcolor\":\"#E5ECF6\",\"aaxis\":{\"gridcolor\":\"white\",\"linecolor\":\"white\",\"ticks\":\"\"},\"baxis\":{\"gridcolor\":\"white\",\"linecolor\":\"white\",\"ticks\":\"\"},\"caxis\":{\"gridcolor\":\"white\",\"linecolor\":\"white\",\"ticks\":\"\"}},\"coloraxis\":{\"colorbar\":{\"outlinewidth\":0,\"ticks\":\"\"}},\"colorscale\":{\"sequential\":[[0.0,\"#0d0887\"],[0.1111111111111111,\"#46039f\"],[0.2222222222222222,\"#7201a8\"],[0.3333333333333333,\"#9c179e\"],[0.4444444444444444,\"#bd3786\"],[0.5555555555555556,\"#d8576b\"],[0.6666666666666666,\"#ed7953\"],[0.7777777777777778,\"#fb9f3a\"],[0.8888888888888888,\"#fdca26\"],[1.0,\"#f0f921\"]],\"sequentialminus\":[[0.0,\"#0d0887\"],[0.1111111111111111,\"#46039f\"],[0.2222222222222222,\"#7201a8\"],[0.3333333333333333,\"#9c179e\"],[0.4444444444444444,\"#bd3786\"],[0.5555555555555556,\"#d8576b\"],[0.6666666666666666,\"#ed7953\"],[0.7777777777777778,\"#fb9f3a\"],[0.8888888888888888,\"#fdca26\"],[1.0,\"#f0f921\"]],\"diverging\":[[0,\"#8e0152\"],[0.1,\"#c51b7d\"],[0.2,\"#de77ae\"],[0.3,\"#f1b6da\"],[0.4,\"#fde0ef\"],[0.5,\"#f7f7f7\"],[0.6,\"#e6f5d0\"],[0.7,\"#b8e186\"],[0.8,\"#7fbc41\"],[0.9,\"#4d9221\"],[1,\"#276419\"]]},\"xaxis\":{\"gridcolor\":\"white\",\"linecolor\":\"white\",\"ticks\":\"\",\"title\":{\"standoff\":15},\"zerolinecolor\":\"white\",\"automargin\":true,\"zerolinewidth\":2},\"yaxis\":{\"gridcolor\":\"white\",\"linecolor\":\"white\",\"ticks\":\"\",\"title\":{\"standoff\":15},\"zerolinecolor\":\"white\",\"automargin\":true,\"zerolinewidth\":2},\"scene\":{\"xaxis\":{\"backgroundcolor\":\"#E5ECF6\",\"gridcolor\":\"white\",\"linecolor\":\"white\",\"showbackground\":true,\"ticks\":\"\",\"zerolinecolor\":\"white\",\"gridwidth\":2},\"yaxis\":{\"backgroundcolor\":\"#E5ECF6\",\"gridcolor\":\"white\",\"linecolor\":\"white\",\"showbackground\":true,\"ticks\":\"\",\"zerolinecolor\":\"white\",\"gridwidth\":2},\"zaxis\":{\"backgroundcolor\":\"#E5ECF6\",\"gridcolor\":\"white\",\"linecolor\":\"white\",\"showbackground\":true,\"ticks\":\"\",\"zerolinecolor\":\"white\",\"gridwidth\":2}},\"shapedefaults\":{\"line\":{\"color\":\"#2a3f5f\"}},\"annotationdefaults\":{\"arrowcolor\":\"#2a3f5f\",\"arrowhead\":0,\"arrowwidth\":1},\"geo\":{\"bgcolor\":\"white\",\"landcolor\":\"#E5ECF6\",\"subunitcolor\":\"white\",\"showland\":true,\"showlakes\":true,\"lakecolor\":\"white\"},\"title\":{\"x\":0.05},\"mapbox\":{\"style\":\"light\"}}}},                        {\"responsive\": true}                    ).then(function(){\n",
       "                            \n",
       "var gd = document.getElementById('3fd71b7c-d369-4c31-a642-7ae03b3b3833');\n",
       "var x = new MutationObserver(function (mutations, observer) {{\n",
       "        var display = window.getComputedStyle(gd).display;\n",
       "        if (!display || display === 'none') {{\n",
       "            console.log([gd, 'removed!']);\n",
       "            Plotly.purge(gd);\n",
       "            observer.disconnect();\n",
       "        }}\n",
       "}});\n",
       "\n",
       "// Listen for the removal of the full notebook cells\n",
       "var notebookContainer = gd.closest('#notebook-container');\n",
       "if (notebookContainer) {{\n",
       "    x.observe(notebookContainer, {childList: true});\n",
       "}}\n",
       "\n",
       "// Listen for the clearing of the current output cell\n",
       "var outputEl = gd.closest('.output');\n",
       "if (outputEl) {{\n",
       "    x.observe(outputEl, {childList: true});\n",
       "}}\n",
       "\n",
       "                        })                };                });            </script>        </div>"
      ]
     },
     "metadata": {},
     "output_type": "display_data"
    }
   ],
   "source": [
    "choromap = go.Figure(data = [data],layout = layout)\n",
    "iplot(choromap,validate=False)"
   ]
  },
  {
   "cell_type": "markdown",
   "metadata": {},
   "source": [
    "# Great Job!"
   ]
  }
 ],
 "metadata": {
  "kernelspec": {
   "display_name": "Python 3 (ipykernel)",
   "language": "python",
   "name": "python3"
  },
  "language_info": {
   "codemirror_mode": {
    "name": "ipython",
    "version": 3
   },
   "file_extension": ".py",
   "mimetype": "text/x-python",
   "name": "python",
   "nbconvert_exporter": "python",
   "pygments_lexer": "ipython3",
   "version": "3.11.7"
  }
 },
 "nbformat": 4,
 "nbformat_minor": 4
}
